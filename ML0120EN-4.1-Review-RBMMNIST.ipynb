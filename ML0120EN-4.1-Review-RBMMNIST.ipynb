{
 "cells": [
  {
   "cell_type": "markdown",
   "metadata": {},
   "source": [
    "<a href=\"https://www.skills.network/\"><img src=\"https://cf-courses-data.s3.us.cloud-object-storage.appdomain.cloud/IBM-DL0120ENedX/labs/Template%20for%20Instructional%20Hands-on%20Labs/images/IDSNlogo.png\" width=\"400px\" align=\"center\"></a>\n",
    "\n",
    "<h1 align=\"center\"><font size=\"5\">RESTRICTED BOLTZMANN MACHINES</font></h1>\n"
   ]
  },
  {
   "cell_type": "markdown",
   "metadata": {},
   "source": [
    "<h3>Introduction</h3>\n",
    "<b>Restricted Boltzmann Machine (RBM):</b>  RBMs are shallow neural nets that learn to reconstruct data by themselves in an unsupervised fashion.  \n",
    "\n",
    "<h4>Why are RBMs important?</h4>\n",
    "An RBM are a basic form of autoencoder.  It can automatically extract <b>meaningful</b> features from a given input.\n",
    "\n",
    "<h4>How does it work?</h4>\n",
    "RBM is a 2 layer neural network. Simply, RBM takes the inputs and translates those into a set of binary values that represents them in the hidden layer. Then, these numbers can be translated back to reconstruct the inputs. Through several forward and backward passes, the RBM will be trained, and a trained RBM can reveal which features are the most important ones when detecting patterns.   \n",
    "\n",
    "<h4>What are the applications of an RBM?</h4>\n",
    "RBM is useful for <a href='http://www.cs.utoronto.ca/~hinton/absps/netflixICML.pdf'>  Collaborative Filtering</a>, dimensionality reduction, classification, regression, feature learning, topic modeling and even <b>Deep Belief Networks</b>.\n",
    "\n",
    "<h4>Is RBM a generative or Discriminative model?</h4>\n",
    "RBM is a generative model. Let me explain it by first, see what is different between discriminative and generative models: \n",
    "\n",
    "<b>Discriminative:</b> Consider a classification problem where we want to learn to distinguish between Sedan cars (y = 1) and SUV cars (y = 0), based on some features of cars. Given a training set, an algorithm like logistic regression tries to find a straight line, or <i>decision boundary</i>, that separates the suv and sedan.  \n",
    "\n",
    "<b>Generative:</b> looking at cars, we can build a model of what Sedan cars look like. Then, looking at SUVs, we can build a separate model of what SUV cars look like. Finally, to classify a new car, we can match the new car against the Sedan model, and match it against the SUV model, to see whether the new car looks more like the SUV or Sedan. \n",
    "\n",
    "Generative Models specify a probability distribution over a dataset of input vectors. We can carry out both supervised and unsupervised tasks with generative models:\n",
    "\n",
    "<ul>\n",
    "    <li>In an unsupervised task, we try to form a model for $P(x)$, where $P$ is the probability given $x$ as an input vector.</li>\n",
    "    <li>In the supervised task, we first form a model for $P(x|y)$, where $P$ is the probability of $x$ given $y$(the label for $x$). For example, if $y = 0$ indicates that a car is an SUV, and $y = 1$ indicates that a car is a sedan, then $p(x|y = 0)$ models the distribution of SUV features, and $p(x|y = 1)$ models the distribution of sedan features. If we manage to find $P(x|y)$ and $P(y)$, then we can use <b>Bayes rule</b> to estimate $P(y|x)$, because:   \n",
    "        $$p(y|x) = \\frac{p(x|y)p(y)}{p(x)}$$</li>\n",
    "</ul>\n",
    "Now the question is, can we build a generative model, and then use it to create synthetic data by directly sampling from the modeled probability distributions? Lets see. \n"
   ]
  },
  {
   "cell_type": "markdown",
   "metadata": {},
   "source": [
    "<h2>Table of Contents</h2>\n",
    "<ol>\n",
    "    <li><a href=\"#ref1\">Initialization</a></li>\n",
    "    <li><a href=\"#ref2\">RBM layers</a></li>\n",
    "    <li><a href=\"#ref3\">What RBM can do after training?</a></li>\n",
    "    <li><a href=\"#ref4\">How to train the model?</a></li>\n",
    "    <li><a href=\"#ref5\">Learned features</a></li>\n",
    "</ol>\n",
    "<p></p>\n",
    "</div>\n",
    "<br>\n",
    "\n",
    "<hr>\n"
   ]
  },
  {
   "cell_type": "markdown",
   "metadata": {},
   "source": [
    "<a id=\"ref1\"></a>\n",
    "\n",
    "<h3>Initialization</h3>\n",
    "\n",
    "First, we have to load the utility file which contains different utility functions that are not connected\n",
    "in any way to the networks presented in the tutorials, but rather help in\n",
    "processing the outputs into a more understandable way.\n"
   ]
  },
  {
   "cell_type": "code",
   "execution_count": 1,
   "metadata": {},
   "outputs": [],
   "source": [
    "import urllib.request\n",
    "with urllib.request.urlopen(\"https://cf-courses-data.s3.us.cloud-object-storage.appdomain.cloud/IBMDeveloperSkillsNetwork-DL0120EN-SkillsNetwork/labs/Week4/data/utils.py\") as url:\n",
    "    response = url.read()\n",
    "target = open('utils.py', 'w')\n",
    "target.write(response.decode('utf-8'))\n",
    "target.close()"
   ]
  },
  {
   "cell_type": "markdown",
   "metadata": {},
   "source": [
    "<h2>Installing TensorFlow </h2>\n",
    "\n",
    "We will installing TensorFlow version 2.2.0 and its required prerequistes.  Also installing pillow...\n"
   ]
  },
  {
   "cell_type": "code",
   "execution_count": 2,
   "metadata": {},
   "outputs": [
    {
     "name": "stdout",
     "output_type": "stream",
     "text": [
      "Collecting grpcio==1.24.3\n",
      "\u001b[?25l  Downloading https://files.pythonhosted.org/packages/30/54/c9810421e41ec0bca2228c6f06b1b1189b196b69533cbcac9f71b44727f8/grpcio-1.24.3-cp36-cp36m-manylinux2010_x86_64.whl (2.2MB)\n",
      "\u001b[K     |████████████████████████████████| 2.2MB 6.2MB/s eta 0:00:01\n",
      "\u001b[?25hRequirement already satisfied: six>=1.5.2 in /home/jupyterlab/conda/envs/python/lib/python3.6/site-packages (from grpcio==1.24.3) (1.15.0)\n",
      "Installing collected packages: grpcio\n",
      "  Found existing installation: grpcio 1.36.1\n",
      "    Uninstalling grpcio-1.36.1:\n",
      "      Successfully uninstalled grpcio-1.36.1\n",
      "Successfully installed grpcio-1.24.3\n",
      "Collecting tensorflow==2.2.0\n",
      "\u001b[?25l  Downloading https://files.pythonhosted.org/packages/3d/be/679ce5254a8c8d07470efb4a4c00345fae91f766e64f1c2aece8796d7218/tensorflow-2.2.0-cp36-cp36m-manylinux2010_x86_64.whl (516.2MB)\n",
      "\u001b[K     |████████████████████████████████| 516.2MB 16kB/s  eta 0:00:013  |▏                               | 2.1MB 6.0MB/s eta 0:01:26     |▊                               | 12.5MB 23.7MB/s eta 0:00:22     |█                               | 17.7MB 3.1MB/s eta 0:02:43[K     |█▍                              | 21.7MB 5.6MB/s eta 0:01:29     |██                              | 32.4MB 7.1MB/s eta 0:01:09     |██▋                             | 42.5MB 5.5MB/s eta 0:01:26                        | 43.3MB 5.5MB/s eta 0:01:26     |██▉                             | 46.6MB 5.5MB/s eta 0:01:25                        | 47.2MB 5.5MB/s eta 0:01:25                  | 91.5MB 2.7MB/s eta 0:02:38     |█████▊                          | 93.1MB 2.7MB/s eta 0:02:37.7MB/s eta 0:02:3701:17           | 101.4MB 5.4MB/s eta 0:01:17           | 106.7MB 5.4MB/s eta 0:01:163     |████████                        | 128.2MB 2.7MB/s eta 0:02:26     |████████                        | 128.3MB 2.7MB/s eta 0:02:26     |████████▎                       | 133.3MB 2.7MB/s eta 0:02:24     |████████▎                       | 133.7MB 2.7MB/s eta 0:02:24     |█████████                       | 144.8MB 3.5MB/s eta 0:01:48152:140MB 28.4MB/s eta 0:00:13     |█████████▉                      | 159.4MB 28.4MB/s eta 0:00:13     |██████████▏                     | 164.8MB 1.8MB/s eta 0:03:17                 | 178.2MB 2.2MB/s eta 0:02:34    |███████████▋                    | 187.1MB 5.1MB/s eta 0:01:05     |████████████                    | 195.0MB 2.1MB/s eta 0:02:34        | 198.0MB 4.8MB/s eta 0:01:07     |████████████▍                   | 199.9MB 4.8MB/s eta 0:01:07        | 201.3MB 5.5MB/s eta 0:00:58        | 208.4MB 2.8MB/s eta 0:01:52��████████                   | 210.5MB 2.8MB/s eta 0:01:51     |█████████████▏                  | 211.7MB 2.8MB/s eta 0:01:51��█████████▎                  | 214.7MB 2.8MB/s eta 0:01:49��█████████▍                  | 216.3MB 2.8MB/s eta 0:01:49 2.7MB/s eta 0:01:46 2.7MB/s eta 0:01:45 5.2MB/s eta 0:00:54     |███████████████                 | 241.7MB 5.2MB/s eta 0:00:54     |███████████████▊                | 254.1MB 5.5MB/s eta 0:00:48     |████████████████                | 259.7MB 2.8MB/s eta 0:01:32     |████████████████▍               | 265.0MB 6.5MB/s eta 0:00:39     |████████████████▌               | 265.6MB 6.5MB/s eta 0:00:39     |████████████████▋               | 268.7MB 6.5MB/s eta 0:00:38     |████████████████▊               | 269.1MB 5.5MB/s eta 0:00:45     |████████████████▊               | 270.0MB 5.5MB/s eta 0:00:45     |████████████████▉               | 271.6MB 5.5MB/s eta 0:00:45    | 285.6MB 6.5MB/s eta 0:00:36     |██████████████████              | 292.1MB 5.3MB/s eta 0:00:43     |██████████████████▎             | 294.8MB 5.3MB/s eta 0:00:43     |██████████████████▊             | 301.9MB 2.7MB/s eta 0:01:21     |███████████████████▎            | 311.3MB 6.8MB/s eta 0:00:31     |███████████████████▍            | 312.2MB 6.8MB/s eta 0:00:31     |███████████████████▍            | 312.7MB 6.8MB/s eta 0:00:30[K     |███████████████████▍            | 312.9MB 6.8MB/s eta 0:00:30     |███████████████████▋            | 316.9MB 5.0MB/s eta 0:00:41     |███████████████████▊            | 317.3MB 5.0MB/s eta 0:00:41[K     |███████████████████▊            | 317.6MB 5.0MB/s eta 0:00:41     |███████████████████▊            | 318.8MB 5.0MB/s eta 0:00:40[K     |███████████████████▉            | 319.1MB 5.0MB/s eta 0:00:40[K     |████████████████████            | 321.5MB 4.7MB/s eta 0:00:42[K     |████████████████████            | 321.7MB 4.7MB/s eta 0:00:42[K     |████████████████████            | 324.3MB 4.7MB/s eta 0:00:41     |████████████████████▏           | 325.0MB 4.7MB/s eta 0:00:41�████████▏           | 325.4MB 4.7MB/s eta 0:00:41     | 328.9MB 4.6MB/s eta 0:00:41�████████▍           | 329.1MB 4.6MB/s eta 0:00:41     | 331.7MB 4.5MB/s eta 0:00:41     |█████████████████████           | 337.3MB 4.8MB/s eta 0:00:38��████████████████████           | 340.1MB 4.8MB/s eta 0:00:37█████████████████████▏          | 340.6MB 4.8MB/s eta 0:00:375.1MB 5.1MB/s eta 0:00:34�█████████▊          | 350.3MB 1.9MB/s eta 0:01:26�█████████▉          | 352.1MB 1.9MB/s eta 0:01:25████████▉          | 352.8MB 1.9MB/s eta 0:01:25�██████████          | 354.7MB 1.9MB/s eta 0:01:24��█████████████████████▏         | 357.1MB 5.0MB/s eta 0:00:32██████████████████▏         | 358.2MB 5.0MB/s eta 0:00:32███████▎         | 358.7MB 5.0MB/s eta 0:00:32�███▎         | 358.9MB 5.0MB/s eta 0:00:32| 359.2MB 5.0MB/s eta 0:00:32.0MB/s eta 0:00:32��█████████████████████▋         | 364.9MB 5.2MB/s eta 0:00:29     |██████████████████████▉         | 368.6MB 5.2MB/s eta 0:00:29��██████████████████████         | 372.0MB 5.0MB/s eta 0:00:30███████████████████         | 372.2MB 5.0MB/s eta 0:00:307MB 768kB/s eta 0:03:029MB 768kB/s eta 0:03:00██▍        | 378.1MB 768kB/s eta 0:03:00     |███████████████████████▌        | 378.6MB 768kB/s eta 0:02:599MB 5.6MB/s eta 0:00:250MB 5.6MB/s eta 0:00:247MB 5.6MB/s eta 0:00:24██████▎       | 390.9MB 6.7MB/s eta 0:00:19██████▎       | 391.6MB 6.7MB/s eta 0:00:19██████▎       | 391.9MB 6.7MB/s eta 0:00:19     |████████████████████████▌       | 396.0MB 2.7MB/s eta 0:00:46     |████████████████████████▋       | 397.8MB 2.7MB/s eta 0:00:45     |████████████████████████▉       | 401.3MB 5.0MB/s eta 0:00:23��█████████████████▏      | 405.6MB 2.6MB/s eta 0:00:43███████▎      | 407.9MB 2.6MB/s eta 0:00:43408.0MB 2.6MB/s eta 0:00:43████████████████▎      | 408.4MB 2.6MB/s eta 0:00:42     |█████████████████████████▍      | 409.0MB 2.6MB/s eta 0:00:42     |█████████████████████████▌      | 411.3MB 2.6MB/s eta 0:00:41��█████████████████▋      | 413.0MB 2.6MB/s eta 0:00:40     |█████████████████████████▊      | 414.9MB 4.9MB/s eta 0:00:21��██████████████████      | 418.3MB 4.9MB/s eta 0:00:20418.6MB 4.9MB/s eta 0:00:20     |██████████████████████████▎     | 423.4MB 4.8MB/s eta 0:00:20     |██████████████████████████▍     | 424.8MB 4.5MB/s eta 0:00:21     |██████████████████████████▌     | 427.5MB 4.5MB/s eta 0:00:20     |██████████████████████████▋     | 430.0MB 4.5MB/s eta 0:00:20     |██████████████████████████▊     | 430.8MB 4.5MB/s eta 0:00:19MB/s eta 0:00:04MB/s eta 0:00:04MB/s eta 0:00:03     |███████████████████████████     | 435.9MB 27.2MB/s eta 0:00:03     |███████████████████████████     | 436.9MB 2.7MB/s eta 0:00:30�    | 437.5MB 2.7MB/s eta 0:00:29�█████████▏    | 438.0MB 2.7MB/s eta 0:00:29████████████████████▏    | 438.1MB 2.7MB/s eta 0:00:29��████████████████████▎    | 439.4MB 2.7MB/s eta 0:00:29:29   | 443.5MB 5.0MB/s eta 0:00:15�█████████▌    | 443.6MB 5.0MB/s eta 0:00:15████████████████████▌    | 443.8MB 5.0MB/s eta 0:00:15�██████████    | 451.2MB 2.7MB/s eta 0:00:24█████████████████████    | 451.4MB 2.7MB/s eta 0:00:24   | 452.5MB 2.7MB/s eta 0:00:24   | 452.8MB 2.7MB/s eta 0:00:24��█████████▏   | 453.8MB 2.7MB/s eta 0:00:23[K     |████████████████████████████▏   | 454.3MB 2.7MB/s eta 0:00:23��█████████▏   | 454.6MB 2.7MB/s eta 0:00:23     |████████████████████████████▎   | 455.7MB 2.7MB/s eta 0:00:23��█████████▎   | 456.0MB 2.7MB/s eta 0:00:23��█████████▎   | 456.2MB 2.7MB/s eta 0:00:23��█████████▌   | 459.5MB 2.7MB/s eta 0:00:22��█████████▋   | 460.9MB 2.7MB/s eta 0:00:21�█████████▋   | 461.2MB 4.9MB/s eta 0:00:12█████████▋   | 461.5MB 4.9MB/s eta 0:00:12��█████████▋   | 462.4MB 4.9MB/s eta 0:00:12�█████████▉   | 465.9MB 4.9MB/s eta 0:00:11[K     |█████████████████████████████   | 466.0MB 4.9MB/s eta 0:00:11██████████   | 466.2MB 4.9MB/s eta 0:00:11K     |█████████████████████████████   | 466.4MB 4.9MB/s eta 0:00:11��██████████   | 467.7MB 5.2MB/s eta 0:00:10��██████████   | 468.6MB 5.2MB/s eta 0:00:10��████████████████████▏  | 471.3MB 5.2MB/s eta 0:00:09█████████▎  | 471.5MB 5.2MB/s eta 0:00:0971.6MB 6.3MB/s eta 0:00:08��█████████████████▎  | 471.9MB 6.3MB/s eta 0:00:08██████▎  | 472.1MB 6.3MB/s eta 0:00:07     |█████████████████████████████▎  | 472.8MB 6.3MB/s eta 0:00:07█████████▎  | 473.1MB 6.3MB/s eta 0:00:07��█████████████████▍  | 473.6MB 6.3MB/s eta 0:00:07     |█████████████████████████████▍  | 474.4MB 6.3MB/s eta 0:00:07█████████▌  | 475.1MB 6.3MB/s eta 0:00:07��████████████████████▌  | 475.6MB 4.8MB/s eta 0:00:09��████████████████████▌  | 476.4MB 4.8MB/s eta 0:00:09█████████▌  | 476.5MB 4.8MB/s eta 0:00:0976.7MB 4.8MB/s eta 0:00:09��████████████████████▊  | 478.6MB 4.8MB/s eta 0:00:08��█████████████████▊  | 479.2MB 4.8MB/s eta 0:00:08█████████▉  | 480.5MB 5.1MB/s eta 0:00:07��████████████████████▉  | 481.6MB 5.1MB/s eta 0:00:07█████████▉  | 481.8MB 5.1MB/s eta 0:00:0781.9MB 5.1MB/s eta 0:00:07|█████████████████████████████▉  | 482.1MB 5.1MB/s eta 0:00:07��██████████████████  | 482.2MB 5.1MB/s eta 0:00:07███████  | 482.4MB 5.1MB/s eta 0:00:071MB/s eta 0:00:07�███████████████████████████  | 482.7MB 5.1MB/s eta 0:00:07��███████████████  | 482.8MB 5.1MB/s eta 0:00:07 0:00:07�████████████████████████  | 483.3MB 5.1MB/s eta 0:00:07��████████████  | 483.5MB 5.1MB/s eta 0:00:07��█████████████████████  | 485.5MB 4.8MB/s eta 0:00:07██████████  | 485.6MB 4.8MB/s eta 0:00:07�▏ | 485.8MB 4.8MB/s eta 0:00:07.1MB 4.8MB/s eta 0:00:07/s eta 0:00:07a 0:00:07   |██████████████████████████████▏ | 487.0MB 4.8MB/s eta 0:00:07██████████████████████████████▍ | 489.6MB 4.8MB/s eta 0:00:06    |██████████████████████████████▍ | 491.0MB 4.8MB/s eta 0:00:06    |██████████████████████████████▌ | 491.2MB 4.8MB/s eta 0:00:06██████████████████████████████▋ | 493.8MB 4.8MB/s eta 0:00:05    |██████████████████████████████▋ | 494.2MB 4.8MB/s eta 0:00:05██████████████████████████████▋ | 494.3MB 4.8MB/s eta 0:00:05�████████████████████████████▋ | 494.5MB 4.8MB/s eta 0:00:05��█████████████████████▊ | 495.1MB 4.8MB/s eta 0:00:05███████████████▊ | 495.7MB 4.8MB/s eta 0:00:05�█████████████▊ | 495.9MB 4.8MB/s eta 0:00:05��██████▉ | 496.5MB 4.8MB/s eta 0:00:05    |██████████████████████████████▉ | 496.8MB 4.8MB/s eta 0:00:05██████████████████████████████▉ | 496.9MB 4.8MB/s eta 0:00:05�████████████████████████████▉ | 497.1MB 4.8MB/s eta 0:00:04��██████████████████████████▉ | 497.2MB 4.8MB/s eta 0:00:04��████████████████▉ | 498.1MB 4.8MB/s eta 0:00:04███████████████████████████████ | 499.7MB 5.1MB/s eta 0:00:04██████▏| 503.2MB 5.1MB/s eta 0:00:036.3MB 6.6MB/s eta 0:00:02██████▍| 506.5MB 6.6MB/s eta 0:00:02�██████████████▍| 506.6MB 6.6MB/s eta 0:00:02��██████████████████████▍| 506.8MB 6.6MB/s eta 0:00:02███████████████████████████████▍| 506.9MB 6.6MB/s eta 0:00:028.4MB 6.6MB/s eta 0:00:028.8MB 6.6MB/s eta 0:00:02██████▋| 510.2MB 5.1MB/s eta 0:00:02�██████████████▋| 510.3MB 5.1MB/s eta 0:00:02��██████████████████████▋| 510.5MB 5.1MB/s eta 0:00:02███████████████████████████████▋| 510.6MB 5.1MB/s eta 0:00:02��██▊| 510.9MB 5.1MB/s eta 0:00:02███████████▊| 511.1MB 5.1MB/s eta 0:00:022.6MB 5.1MB/s eta 0:00:01██████▉| 512.7MB 5.1MB/s eta 0:00:015.4MB 5.1MB/s eta 0:00:01███████| 515.6MB 5.1MB/s eta 0:00:01��███████████████████████| 515.9MB 5.1MB/s eta 0:00:01\n",
      "\u001b[?25hCollecting opt-einsum>=2.3.2 (from tensorflow==2.2.0)\n",
      "\u001b[?25l  Downloading https://files.pythonhosted.org/packages/bc/19/404708a7e54ad2798907210462fd950c3442ea51acc8790f3da48d2bee8b/opt_einsum-3.3.0-py3-none-any.whl (65kB)\n",
      "\u001b[K     |████████████████████████████████| 71kB 3.6MB/s  eta 0:00:01\n",
      "\u001b[?25hCollecting scipy==1.4.1; python_version >= \"3\" (from tensorflow==2.2.0)\n",
      "\u001b[?25l  Downloading https://files.pythonhosted.org/packages/dc/29/162476fd44203116e7980cfbd9352eef9db37c49445d1fec35509022f6aa/scipy-1.4.1-cp36-cp36m-manylinux1_x86_64.whl (26.1MB)\n",
      "\u001b[K     |████████████████████████████████| 26.1MB 5.1MB/s eta 0:00:01    |████                            | 3.2MB 4.9MB/s eta 0:00:05                       | 4.7MB 5.1MB/s eta 0:00:05     |██████▉                         | 5.6MB 5.1MB/s eta 0:00:050:04            | 12.5MB 5.1MB/s eta 0:00:03.1MB/s eta 0:00:03     |████████████████▉               | 13.7MB 5.1MB/s eta 0:00:03�████████████████▏              | 14.0MB 5.1MB/s eta 0:00:03��██▍             | 15.0MB 5.1MB/s eta 0:00:03MB/s eta 0:00:02██▉           | 17.0MB 5.1MB/s eta 0:00:0202�████▌          | 17.6MB 5.1MB/s eta 0:00:02 |█████████████████████▊          | 17.7MB 5.1MB/s eta 0:00:02██          | 17.9MB 5.1MB/s eta 0:00:02███████████████       | 20.4MB 5.0MB/s eta 0:00:02��████▌   | 23.2MB 5.0MB/s eta 0:00:01��███████████████▉  | 24.3MB 5.1MB/s eta 0:00:01��██████████████████████████▍ | 24.8MB 5.1MB/s eta 0:00:01████████████████████▋ | 24.9MB 5.1MB/s eta 0:00:01\n",
      "\u001b[?25hRequirement already satisfied: numpy<2.0,>=1.16.0 in /home/jupyterlab/conda/envs/python/lib/python3.6/site-packages (from tensorflow==2.2.0) (1.19.5)\n",
      "Collecting keras-preprocessing>=1.1.0 (from tensorflow==2.2.0)\n",
      "\u001b[?25l  Downloading https://files.pythonhosted.org/packages/79/4c/7c3275a01e12ef9368a892926ab932b33bb13d55794881e3573482b378a7/Keras_Preprocessing-1.1.2-py2.py3-none-any.whl (42kB)\n",
      "\u001b[K     |████████████████████████████████| 51kB 12.8MB/s eta 0:00:01\n",
      "\u001b[?25hCollecting tensorflow-estimator<2.3.0,>=2.2.0 (from tensorflow==2.2.0)\n",
      "\u001b[?25l  Downloading https://files.pythonhosted.org/packages/a4/f5/926ae53d6a226ec0fda5208e0e581cffed895ccc89e36ba76a8e60895b78/tensorflow_estimator-2.2.0-py2.py3-none-any.whl (454kB)\n",
      "\u001b[K     |████████████████████████████████| 460kB 24.8MB/s eta 0:00:01\n",
      "\u001b[?25hCollecting google-pasta>=0.1.8 (from tensorflow==2.2.0)\n",
      "\u001b[?25l  Downloading https://files.pythonhosted.org/packages/a3/de/c648ef6835192e6e2cc03f40b19eeda4382c49b5bafb43d88b931c4c74ac/google_pasta-0.2.0-py3-none-any.whl (57kB)\n",
      "\u001b[K     |████████████████████████████████| 61kB 1.9MB/s eta 0:00:011\n",
      "\u001b[?25hRequirement already satisfied: protobuf>=3.8.0 in /home/jupyterlab/conda/envs/python/lib/python3.6/site-packages (from tensorflow==2.2.0) (3.15.7)\n",
      "Requirement already satisfied: six>=1.12.0 in /home/jupyterlab/conda/envs/python/lib/python3.6/site-packages (from tensorflow==2.2.0) (1.15.0)\n",
      "Collecting astunparse==1.6.3 (from tensorflow==2.2.0)\n",
      "  Downloading https://files.pythonhosted.org/packages/2b/03/13dde6512ad7b4557eb792fbcf0c653af6076b81e5941d36ec61f7ce6028/astunparse-1.6.3-py2.py3-none-any.whl\n",
      "Collecting wrapt>=1.11.1 (from tensorflow==2.2.0)\n",
      "  Using cached https://files.pythonhosted.org/packages/82/f7/e43cefbe88c5fd371f4cf0cf5eb3feccd07515af9fd6cf7dbf1d1793a797/wrapt-1.12.1.tar.gz\n",
      "Collecting h5py<2.11.0,>=2.10.0 (from tensorflow==2.2.0)\n",
      "\u001b[?25l  Downloading https://files.pythonhosted.org/packages/60/06/cafdd44889200e5438b897388f3075b52a8ef01f28a17366d91de0fa2d05/h5py-2.10.0-cp36-cp36m-manylinux1_x86_64.whl (2.9MB)\n",
      "\u001b[K     |████████████████████████████████| 2.9MB 3.4MB/s eta 0:00:01██                             | 266kB 3.4MB/s eta 0:00:01  | 522kB 3.4MB/s eta 0:00:01████████▌        | 2.1MB 3.4MB/s eta 0:00:01��███████████████▌      | 2.3MB 3.4MB/s eta 0:00:01��███▎    | 2.4MB 3.4MB/s eta 0:00:01███████████   | 2.6MB 3.4MB/s eta 0:00:01 eta 0:00:01\n",
      "\u001b[?25hRequirement already satisfied: termcolor>=1.1.0 in /home/jupyterlab/conda/envs/python/lib/python3.6/site-packages (from tensorflow==2.2.0) (1.1.0)\n",
      "Collecting gast==0.3.3 (from tensorflow==2.2.0)\n",
      "  Downloading https://files.pythonhosted.org/packages/d6/84/759f5dd23fec8ba71952d97bcc7e2c9d7d63bdc582421f3cd4be845f0c98/gast-0.3.3-py2.py3-none-any.whl\n",
      "Requirement already satisfied: absl-py>=0.7.0 in /home/jupyterlab/conda/envs/python/lib/python3.6/site-packages (from tensorflow==2.2.0) (0.12.0)\n",
      "Requirement already satisfied: grpcio>=1.8.6 in /home/jupyterlab/conda/envs/python/lib/python3.6/site-packages (from tensorflow==2.2.0) (1.24.3)\n",
      "Requirement already satisfied: wheel>=0.26; python_version >= \"3\" in /home/jupyterlab/conda/envs/python/lib/python3.6/site-packages (from tensorflow==2.2.0) (0.36.2)\n",
      "Collecting tensorboard<2.3.0,>=2.2.0 (from tensorflow==2.2.0)\n",
      "\u001b[?25l  Downloading https://files.pythonhosted.org/packages/1d/74/0a6fcb206dcc72a6da9a62dd81784bfdbff5fedb099982861dc2219014fb/tensorboard-2.2.2-py3-none-any.whl (3.0MB)\n",
      "\u001b[K     |████████████████████████████████| 3.0MB 7.3MB/s eta 0:00:01\n",
      "\u001b[?25hRequirement already satisfied: werkzeug>=0.11.15 in /home/jupyterlab/conda/envs/python/lib/python3.6/site-packages (from tensorboard<2.3.0,>=2.2.0->tensorflow==2.2.0) (1.0.1)\n",
      "Requirement already satisfied: markdown>=2.6.8 in /home/jupyterlab/conda/envs/python/lib/python3.6/site-packages (from tensorboard<2.3.0,>=2.2.0->tensorflow==2.2.0) (3.3.4)\n",
      "Requirement already satisfied: requests<3,>=2.21.0 in /home/jupyterlab/conda/envs/python/lib/python3.6/site-packages (from tensorboard<2.3.0,>=2.2.0->tensorflow==2.2.0) (2.25.1)\n",
      "Requirement already satisfied: setuptools>=41.0.0 in /home/jupyterlab/conda/envs/python/lib/python3.6/site-packages (from tensorboard<2.3.0,>=2.2.0->tensorflow==2.2.0) (52.0.0.post20210125)\n",
      "Collecting google-auth<2,>=1.6.3 (from tensorboard<2.3.0,>=2.2.0->tensorflow==2.2.0)\n",
      "\u001b[?25l  Downloading https://files.pythonhosted.org/packages/6c/13/c5ed31377b620158a487c5851343d3a59065954f83a34223c9b9087f7b8d/google_auth-1.28.1-py2.py3-none-any.whl (136kB)\n",
      "\u001b[K     |████████████████████████████████| 143kB 33.9MB/s eta 0:00:01\n",
      "\u001b[?25hCollecting tensorboard-plugin-wit>=1.6.0 (from tensorboard<2.3.0,>=2.2.0->tensorflow==2.2.0)\n",
      "\u001b[?25l  Downloading https://files.pythonhosted.org/packages/1a/c1/499e600ba0c618b451cd9c425ae1c177249940a2086316552fee7d86c954/tensorboard_plugin_wit-1.8.0-py3-none-any.whl (781kB)\n",
      "\u001b[K     |████████████████████████████████| 788kB 31.4MB/s eta 0:00:01 235kB 31.4MB/s eta 0:00:01:01�███████████▋      | 624kB 31.4MB/s eta 0:00:01\n",
      "\u001b[?25hCollecting google-auth-oauthlib<0.5,>=0.4.1 (from tensorboard<2.3.0,>=2.2.0->tensorflow==2.2.0)\n",
      "  Downloading https://files.pythonhosted.org/packages/9d/d3/7541e89f1fc456eef157224f597a8bba22589db6369a03eaba68c11f07a0/google_auth_oauthlib-0.4.4-py2.py3-none-any.whl\n",
      "Requirement already satisfied: importlib-metadata; python_version < \"3.8\" in /home/jupyterlab/conda/envs/python/lib/python3.6/site-packages (from markdown>=2.6.8->tensorboard<2.3.0,>=2.2.0->tensorflow==2.2.0) (3.10.0)\n",
      "Requirement already satisfied: idna<3,>=2.5 in /home/jupyterlab/conda/envs/python/lib/python3.6/site-packages (from requests<3,>=2.21.0->tensorboard<2.3.0,>=2.2.0->tensorflow==2.2.0) (2.10)\n",
      "Requirement already satisfied: urllib3<1.27,>=1.21.1 in /home/jupyterlab/conda/envs/python/lib/python3.6/site-packages (from requests<3,>=2.21.0->tensorboard<2.3.0,>=2.2.0->tensorflow==2.2.0) (1.26.4)\n",
      "Requirement already satisfied: certifi>=2017.4.17 in /home/jupyterlab/conda/envs/python/lib/python3.6/site-packages (from requests<3,>=2.21.0->tensorboard<2.3.0,>=2.2.0->tensorflow==2.2.0) (2020.12.5)\n",
      "Requirement already satisfied: chardet<5,>=3.0.2 in /home/jupyterlab/conda/envs/python/lib/python3.6/site-packages (from requests<3,>=2.21.0->tensorboard<2.3.0,>=2.2.0->tensorflow==2.2.0) (4.0.0)\n",
      "Collecting rsa<5,>=3.1.4; python_version >= \"3.6\" (from google-auth<2,>=1.6.3->tensorboard<2.3.0,>=2.2.0->tensorflow==2.2.0)\n",
      "  Using cached https://files.pythonhosted.org/packages/e9/93/0c0f002031f18b53af7a6166103c02b9c0667be528944137cc954ec921b3/rsa-4.7.2-py3-none-any.whl\n",
      "Collecting cachetools<5.0,>=2.0.0 (from google-auth<2,>=1.6.3->tensorboard<2.3.0,>=2.2.0->tensorflow==2.2.0)\n",
      "  Using cached https://files.pythonhosted.org/packages/bb/72/8df2e0dc991f1a1d2c6869404e7622e8ee50d80bff357dbb57c3df70305b/cachetools-4.2.1-py3-none-any.whl\n",
      "Requirement already satisfied: pyasn1-modules>=0.2.1 in /home/jupyterlab/conda/envs/python/lib/python3.6/site-packages (from google-auth<2,>=1.6.3->tensorboard<2.3.0,>=2.2.0->tensorflow==2.2.0) (0.2.8)\n",
      "Collecting requests-oauthlib>=0.7.0 (from google-auth-oauthlib<0.5,>=0.4.1->tensorboard<2.3.0,>=2.2.0->tensorflow==2.2.0)\n",
      "  Using cached https://files.pythonhosted.org/packages/a3/12/b92740d845ab62ea4edf04d2f4164d82532b5a0b03836d4d4e71c6f3d379/requests_oauthlib-1.3.0-py2.py3-none-any.whl\n",
      "Requirement already satisfied: zipp>=0.5 in /home/jupyterlab/conda/envs/python/lib/python3.6/site-packages (from importlib-metadata; python_version < \"3.8\"->markdown>=2.6.8->tensorboard<2.3.0,>=2.2.0->tensorflow==2.2.0) (3.4.1)\n",
      "Requirement already satisfied: typing-extensions>=3.6.4; python_version < \"3.8\" in /home/jupyterlab/conda/envs/python/lib/python3.6/site-packages (from importlib-metadata; python_version < \"3.8\"->markdown>=2.6.8->tensorboard<2.3.0,>=2.2.0->tensorflow==2.2.0) (3.7.4.3)\n",
      "Requirement already satisfied: pyasn1>=0.1.3 in /home/jupyterlab/conda/envs/python/lib/python3.6/site-packages (from rsa<5,>=3.1.4; python_version >= \"3.6\"->google-auth<2,>=1.6.3->tensorboard<2.3.0,>=2.2.0->tensorflow==2.2.0) (0.4.8)\n",
      "Collecting oauthlib>=3.0.0 (from requests-oauthlib>=0.7.0->google-auth-oauthlib<0.5,>=0.4.1->tensorboard<2.3.0,>=2.2.0->tensorflow==2.2.0)\n",
      "\u001b[?25l  Downloading https://files.pythonhosted.org/packages/05/57/ce2e7a8fa7c0afb54a0581b14a65b56e62b5759dbc98e80627142b8a3704/oauthlib-3.1.0-py2.py3-none-any.whl (147kB)\n",
      "\u001b[K     |████████████████████████████████| 153kB 54.7MB/s eta 0:00:01\n",
      "\u001b[?25hBuilding wheels for collected packages: wrapt\n",
      "  Building wheel for wrapt (setup.py) ... \u001b[?25ldone\n",
      "\u001b[?25h  Stored in directory: /home/jupyterlab/.cache/pip/wheels/b1/c2/ed/d62208260edbd3fa7156545c00ef966f45f2063d0a84f8208a\n",
      "Successfully built wrapt\n",
      "Installing collected packages: opt-einsum, scipy, keras-preprocessing, tensorflow-estimator, google-pasta, astunparse, wrapt, h5py, gast, rsa, cachetools, google-auth, tensorboard-plugin-wit, oauthlib, requests-oauthlib, google-auth-oauthlib, tensorboard, tensorflow\n",
      "  Found existing installation: scipy 1.5.3\n",
      "    Uninstalling scipy-1.5.3:\n",
      "      Successfully uninstalled scipy-1.5.3\n",
      "  Found existing installation: h5py 2.8.0\n",
      "    Uninstalling h5py-2.8.0:\n",
      "      Successfully uninstalled h5py-2.8.0\n",
      "  Found existing installation: gast 0.4.0\n",
      "    Uninstalling gast-0.4.0:\n",
      "      Successfully uninstalled gast-0.4.0\n",
      "  Found existing installation: tensorboard 1.8.0\n",
      "    Uninstalling tensorboard-1.8.0:\n",
      "      Successfully uninstalled tensorboard-1.8.0\n",
      "  Found existing installation: tensorflow 1.8.0\n",
      "    Uninstalling tensorflow-1.8.0:\n",
      "      Successfully uninstalled tensorflow-1.8.0\n",
      "Successfully installed astunparse-1.6.3 cachetools-4.2.1 gast-0.3.3 google-auth-1.28.1 google-auth-oauthlib-0.4.4 google-pasta-0.2.0 h5py-2.10.0 keras-preprocessing-1.1.2 oauthlib-3.1.0 opt-einsum-3.3.0 requests-oauthlib-1.3.0 rsa-4.7.2 scipy-1.4.1 tensorboard-2.2.2 tensorboard-plugin-wit-1.8.0 tensorflow-2.2.0 tensorflow-estimator-2.2.0 wrapt-1.12.1\n",
      "Requirement already satisfied: pillow in /home/jupyterlab/conda/envs/python/lib/python3.6/site-packages (8.2.0)\n"
     ]
    }
   ],
   "source": [
    "!pip install grpcio==1.24.3\n",
    "!pip install tensorflow==2.2.0\n",
    "!pip install pillow"
   ]
  },
  {
   "cell_type": "markdown",
   "metadata": {},
   "source": [
    "<b>Notice:</b> This notebook has been created with TensorFlow version 2.2, and might not work with other versions. Therefore we check:\n"
   ]
  },
  {
   "cell_type": "code",
   "execution_count": 1,
   "metadata": {},
   "outputs": [],
   "source": [
    "import tensorflow as tf\n",
    "from IPython.display import Markdown, display\n",
    "\n",
    "def printmd(string):\n",
    "    display(Markdown('# <span style=\"color:red\">'+string+'</span>'))\n",
    "\n",
    "\n",
    "if not tf.__version__ == '2.2.0':\n",
    "    printmd('<<<<<!!!!! ERROR !!!! please upgrade to TensorFlow 2.2.0, or restart your Kernel (Kernel->Restart & Clear Output)>>>>>')"
   ]
  },
  {
   "cell_type": "markdown",
   "metadata": {},
   "source": [
    "Now, we load in all the packages that we use to create the net including the TensorFlow package:\n"
   ]
  },
  {
   "cell_type": "code",
   "execution_count": 2,
   "metadata": {},
   "outputs": [],
   "source": [
    "import tensorflow as tf\n",
    "import numpy as np\n",
    "\n",
    "from PIL import Image\n",
    "from utils import tile_raster_images\n",
    "import matplotlib.pyplot as plt\n",
    "%matplotlib inline"
   ]
  },
  {
   "cell_type": "markdown",
   "metadata": {},
   "source": [
    "<hr>\n"
   ]
  },
  {
   "cell_type": "markdown",
   "metadata": {},
   "source": [
    "<a id=\"ref2\"></a>\n",
    "\n",
    "<h3>RBM layers</h3>\n",
    "\n",
    "An RBM has two layers. The first layer of the RBM is called the <b>visible</b> (or input layer). Imagine that our toy example, has only vectors with 7 values, so the visible layer must have $V=7$ input nodes. \n",
    "The second layer is the <b>hidden</b> layer, which has $H$ neurons in our case. Each hidden node takes on values of either 0 or 1 (i.e., $h_i = 1$ or $h_i$ = 0), with a probability that is a logistic function of the inputs it receives from the other $V$ visible units, called for example, $p(h_i = 1)$. For our toy sample, we'll use 2 nodes in the hidden layer, so $H = 2$.\n",
    "\n",
    "<center><img src=\"https://ibm.box.com/shared/static/eu26opvcefgls6vnwuo29uwp0nudmokh.png\" alt=\"RBM Model\" style=\"width: 400px;\"></center>\n"
   ]
  },
  {
   "cell_type": "markdown",
   "metadata": {},
   "source": [
    "Each node in the first layer also has a <b>bias</b>. We will denote the bias as $v_{bias}$, and this single value is shared among the $V$ visible units.\n",
    "\n",
    "The <b>bias</b> of the second is defined similarly as $h_{bias}$, and this single value among the $H$ hidden units.\n"
   ]
  },
  {
   "cell_type": "code",
   "execution_count": 3,
   "metadata": {},
   "outputs": [],
   "source": [
    "v_bias = tf.Variable(tf.zeros([7]), tf.float32)\n",
    "h_bias = tf.Variable(tf.zeros([2]), tf.float32)"
   ]
  },
  {
   "cell_type": "markdown",
   "metadata": {},
   "source": [
    "We have to define weights among the input layer and hidden layer nodes. In the weight matrix, the number of rows are equal to the input nodes, and the number of columns are equal to the output nodes. We define a tensor $\\mathbf{W}$ of shape = (7,2), where the number of visible neurons = 7, and the number of hidden neurons = 2. \n"
   ]
  },
  {
   "cell_type": "code",
   "execution_count": 4,
   "metadata": {},
   "outputs": [],
   "source": [
    "W = tf.constant(np.random.normal(loc=0.0, scale=1.0, size=(7, 2)).astype(np.float32))"
   ]
  },
  {
   "cell_type": "markdown",
   "metadata": {},
   "source": [
    "<hr>\n"
   ]
  },
  {
   "cell_type": "markdown",
   "metadata": {},
   "source": [
    "<a id=\"ref3\"></a>\n",
    "\n",
    "<h3>What RBM can do after training?</h3>\n",
    "Think of RBM as a model that has been trained based on images of a dataset of many SUV and sedan cars. Also, imagine that the RBM network has only two hidden nodes, where one node encodes the weight and, and the other encodes the size.  \n",
    "In a sense, the different configurations represent different cars, where one is an SUV and the other is Sedan.  In a training process, through many forward and backward passes, the RBM adjust its weights to send a stronger signal to either the SUV node (0, 1) or the sedan node (1, 0) in the hidden layer, given the pixels of images. Now, given an SUV in hidden layer, which distribution of pixels should we expect? RBM can give you 2 things. First, it encodes your images in hidden layer. Second, it gives you the probability of observing a case, given some hidden values.\n",
    "\n",
    "<h3>The Inference Process</h3>\n",
    "\n",
    "RBM has two phases:\n",
    "\n",
    "<ul>\n",
    "    <li>Forward Pass</li>  \n",
    "    <li>Backward Pass or Reconstruction</li>\n",
    "</ul>\n",
    "\n",
    "<b>Phase 1) Forward pass:</b>  \n",
    "\n",
    "Input one training sample (one image) $\\mathbf{x}$ through all visible nodes, and pass it to all hidden nodes. Processing happens in each node in the hidden layer. This computation begins by making stochastic decisions about whether to transmit that input or not (i.e. to determine the state of each hidden layer).  First, the probability vector is computed using the input feature vector $\\mathbf{x}$, the weight matrix $\\mathbf{W}$, and the bias term $h_{bias}$, as \n",
    "\n",
    "$p({h_j}|\\mathbf x)= \\sigma(\\sum_{i=1}^V W_{ij} x_i + h_{bias} )$, \n",
    "\n",
    "where $\\sigma(z) = (1+e^{-z})^{-1}$ is the logistic function.\n",
    "\n",
    "So, what does $p({h_j})$ represent? It is the <b>probability distribution</b> of the hidden units. That is, RBM uses inputs $x_i$ to make predictions about hidden node activations. For example, imagine that the hidden node activation values are [0.51 0.84] for the first training item. It tells you that the conditional probability for each hidden neuron for Phase 1 is: \n",
    "\n",
    "$$p(h_{1} = 1|\\mathbf{v}) = 0.51$$\n",
    "$$p(h_{2} = 1|\\mathbf{v}) = 0.84$$\n",
    "\n",
    "As a result, for each row in the training set, vector of probabilities is generated.  In TensorFlow, this is referred to as a `tensor` with a shape of (1,2). \n",
    "\n",
    "We then turn unit $j$ with probability $p(h_{j}|\\mathbf{v})$, and turn it off with probability $1 - p(h_{j}|\\mathbf{v})$ by generating a uniform random number vector $\\mathbf{\\xi}$, and comparing it to the activation probability as \n",
    "\n",
    "<center>If $\\xi_j>p(h_{j}|\\mathbf{v})$, then $h_j=1$, else $h_j=0$.</center>\n",
    "\n",
    "Therefore, the conditional probability of a configuration of $\\mathbf{h}$ given $\\mathbf{v}$ (for a training sample) is:\n",
    "\n",
    "$$p(\\mathbf{h} \\mid \\mathbf{v}) = \\prod_{j=1}^H p(h_j \\mid \\mathbf{v})$$\n",
    "\n",
    "where $H$ is the number of hidden units.\n"
   ]
  },
  {
   "cell_type": "markdown",
   "metadata": {},
   "source": [
    "Before we go further, let's look at a toy example for one case out of all input. Assume that we have a trained RBM, and a very simple input vector, such as [1.0, 0.0, 0.0, 1.0, 0.0, 0.0, 0.0].  \n",
    "Let's see what the output of forward pass would look like:\n"
   ]
  },
  {
   "cell_type": "code",
   "execution_count": 5,
   "metadata": {},
   "outputs": [
    {
     "name": "stdout",
     "output_type": "stream",
     "text": [
      "Input:  tf.Tensor([[1. 0. 0. 1. 0. 0. 0.]], shape=(1, 7), dtype=float32)\n",
      "hb:  tf.Tensor([0.1 0.1], shape=(2,), dtype=float32)\n",
      "w:  tf.Tensor(\n",
      "[[ 1.8403107  -0.19165629]\n",
      " [ 0.06366255  3.1814218 ]\n",
      " [ 0.16828215 -0.27791044]\n",
      " [ 1.3466624   0.29934356]\n",
      " [ 0.09799451  0.57215816]\n",
      " [-0.36563447 -1.5574645 ]\n",
      " [-1.5373819   0.23153976]], shape=(7, 2), dtype=float32)\n",
      "p(h|v):  tf.Tensor([[0.96397924 0.551736  ]], shape=(1, 2), dtype=float32)\n",
      "h0 states: tf.Tensor([[1. 0.]], shape=(1, 2), dtype=float32)\n"
     ]
    }
   ],
   "source": [
    "X = tf.constant([[1.0, 0.0, 0.0, 1.0, 0.0, 0.0, 0.0]], tf.float32)\n",
    "\n",
    "v_state = X\n",
    "print (\"Input: \", v_state)\n",
    "\n",
    "h_bias = tf.constant([0.1, 0.1])\n",
    "print (\"hb: \", h_bias)\n",
    "print (\"w: \", W)\n",
    "\n",
    "# Calculate the probabilities of turning the hidden units on:\n",
    "h_prob = tf.nn.sigmoid(tf.matmul(v_state, W) + h_bias)  #probabilities of the hidden units\n",
    "print (\"p(h|v): \", h_prob)\n",
    "\n",
    "# Draw samples from the distribution:\n",
    "h_state = tf.nn.relu(tf.sign(h_prob - tf.random.uniform(tf.shape(h_prob)))) #states\n",
    "print (\"h0 states:\", h_state)"
   ]
  },
  {
   "cell_type": "markdown",
   "metadata": {},
   "source": [
    "<b>Phase 2) Backward Pass (Reconstruction):</b>\n",
    "The RBM reconstructs data by making several forward and backward passes between the visible and hidden layers.\n",
    "\n",
    "So, in the second phase (i.e. reconstruction phase), the samples from the hidden layer (i.e. $\\mathbf h$) becomes the input in the backward pass. The same weight matrix and visible layer biases are used to passed to the sigmoid function. The reproduced output is a reconstruction which is an approximation of the original input.\n"
   ]
  },
  {
   "cell_type": "code",
   "execution_count": 6,
   "metadata": {},
   "outputs": [
    {
     "name": "stdout",
     "output_type": "stream",
     "text": [
      "b:  tf.Tensor([0.1 0.2 0.1 0.1 0.1 0.2 0.1], shape=(7,), dtype=float32)\n",
      "p(vi∣h):  tf.Tensor(\n",
      "[[0.87438625 0.5655364  0.5666711  0.8094842  0.54933757 0.4586858\n",
      "  0.19195111]], shape=(1, 7), dtype=float32)\n",
      "v probability states:  tf.Tensor([[1. 1. 0. 1. 1. 0. 0.]], shape=(1, 7), dtype=float32)\n"
     ]
    }
   ],
   "source": [
    "vb = tf.constant([0.1, 0.2, 0.1, 0.1, 0.1, 0.2, 0.1])\n",
    "print (\"b: \", vb)\n",
    "v_prob = tf.nn.sigmoid(tf.matmul(h_state, tf.transpose(W)) + vb)\n",
    "print (\"p(vi∣h): \", v_prob)\n",
    "v_state = tf.nn.relu(tf.sign(v_prob - tf.random.uniform(tf.shape(v_prob))))\n",
    "print (\"v probability states: \", v_state)"
   ]
  },
  {
   "cell_type": "markdown",
   "metadata": {},
   "source": [
    "RBM learns a probability distribution over the input, and then, after being trained, the RBM can generate new samples from the learned probability distribution. As you know, <b>probability distribution</b>, is a mathematical function that provides the probabilities of occurrence of different possible outcomes in an experiment.\n",
    "\n",
    "The (conditional) probability distribution over the visible units v is given by\n",
    "\n",
    "$p(\\mathbf{v} \\mid \\mathbf{h}) = \\prod_{i=1}^V p(v_i \\mid \\mathbf{h}),$\n",
    "\n",
    "where,\n",
    "\n",
    "$p(v_i \\mid \\mathbf{h}) = \\sigma\\left(\\sum_{j=1}^H W_{ji} h_j + v_{bias} \\right)$\n",
    "\n",
    "so, given current state of hidden units and weights, what is the probability of generating [1. 0. 0. 1. 0. 0. 0.] in reconstruction phase, based on the above <b>probability distribution</b> function?\n"
   ]
  },
  {
   "cell_type": "code",
   "execution_count": 7,
   "metadata": {},
   "outputs": [
    {
     "name": "stdout",
     "output_type": "stream",
     "text": [
      "input X: [[1. 0. 0. 1. 0. 0. 0.]]\n",
      "probablity vector: [0.87438625 0.5655364  0.5666711  0.8094842  0.54933757 0.4586858\n",
      " 0.19195111]\n",
      "probability of generating X:  0.026267651\n"
     ]
    }
   ],
   "source": [
    "inp = X\n",
    "print(\"input X:\" , inp.numpy())\n",
    "\n",
    "print(\"probablity vector:\" , v_prob[0].numpy())\n",
    "v_probability = 1\n",
    "\n",
    "for elm, p in zip(inp[0],v_prob[0]) :\n",
    "    if elm ==1:\n",
    "        v_probability *= p\n",
    "    else:\n",
    "        v_probability *= (1-p)\n",
    "\n",
    "print(\"probability of generating X: \" , v_probability.numpy())"
   ]
  },
  {
   "cell_type": "markdown",
   "metadata": {},
   "source": [
    "How similar are vectors $\\mathbf{x}$ and $\\mathbf{v}$? Of course, the reconstructed values most likely will not look anything like the input vector, because our network has not been trained yet. Our objective is to train the model in such a way that the input vector and reconstructed vector to be same. Therefore, based on how different the input values look to the ones that we just reconstructed, the weights are adjusted. \n"
   ]
  },
  {
   "cell_type": "markdown",
   "metadata": {},
   "source": [
    "<hr>\n"
   ]
  },
  {
   "cell_type": "markdown",
   "metadata": {},
   "source": [
    "<h2>MNIST</h2>\n"
   ]
  },
  {
   "cell_type": "markdown",
   "metadata": {},
   "source": [
    "We will be using the MNIST dataset to practice the usage of RBMs. The following cell loads the MNIST dataset.\n"
   ]
  },
  {
   "cell_type": "code",
   "execution_count": 8,
   "metadata": {},
   "outputs": [
    {
     "name": "stdout",
     "output_type": "stream",
     "text": [
      "Downloading data from https://storage.googleapis.com/tensorflow/tf-keras-datasets/mnist.npz\n",
      "11493376/11490434 [==============================] - 0s 0us/step\n"
     ]
    }
   ],
   "source": [
    "#loading training and test data\n",
    "mnist = tf.keras.datasets.mnist\n",
    "(trX, trY), (teX, teY) = mnist.load_data()\n",
    "\n",
    "# showing an example of the Flatten class and operation\n",
    "from tensorflow.keras.layers import Flatten\n",
    "flatten = Flatten(dtype='float32')\n",
    "trX = flatten(trX/255.0)\n",
    "trY = flatten(trY/255.0)"
   ]
  },
  {
   "cell_type": "markdown",
   "metadata": {},
   "source": [
    "Lets look at the dimension of the images.\n"
   ]
  },
  {
   "cell_type": "markdown",
   "metadata": {},
   "source": [
    "MNIST images have 784 pixels, so the visible layer must have 784 input nodes.  For our case, we'll use 50 nodes in the hidden layer, so i = 50.\n"
   ]
  },
  {
   "cell_type": "code",
   "execution_count": 9,
   "metadata": {
    "tags": []
   },
   "outputs": [],
   "source": [
    "vb = tf.Variable(tf.zeros([784]), tf.float32)\n",
    "hb = tf.Variable(tf.zeros([50]), tf.float32)"
   ]
  },
  {
   "cell_type": "markdown",
   "metadata": {},
   "source": [
    "Let $\\mathbf W$ be the Tensor of 784x50 (784 - number of visible neurons, 50 - number of hidden neurons) that represents weights between the neurons. \n"
   ]
  },
  {
   "cell_type": "code",
   "execution_count": 10,
   "metadata": {
    "tags": []
   },
   "outputs": [],
   "source": [
    "W = tf.Variable(tf.zeros([784,50]), tf.float32)"
   ]
  },
  {
   "cell_type": "markdown",
   "metadata": {},
   "source": [
    "Lets define the visible layer:\n"
   ]
  },
  {
   "cell_type": "code",
   "execution_count": 11,
   "metadata": {},
   "outputs": [
    {
     "data": {
      "text/plain": [
       "<tf.Tensor: shape=(1, 50), dtype=float32, numpy=\n",
       "array([[0., 0., 0., 0., 0., 0., 0., 0., 0., 0., 0., 0., 0., 0., 0., 0.,\n",
       "        0., 0., 0., 0., 0., 0., 0., 0., 0., 0., 0., 0., 0., 0., 0., 0.,\n",
       "        0., 0., 0., 0., 0., 0., 0., 0., 0., 0., 0., 0., 0., 0., 0., 0.,\n",
       "        0., 0.]], dtype=float32)>"
      ]
     },
     "execution_count": 11,
     "metadata": {},
     "output_type": "execute_result"
    }
   ],
   "source": [
    "v0_state = tf.Variable(tf.zeros([784]), tf.float32)\n",
    "\n",
    "#testing to see if the matrix product works\n",
    "tf.matmul( [v0_state], W)"
   ]
  },
  {
   "cell_type": "markdown",
   "metadata": {},
   "source": [
    "Now, we can define hidden layer:\n"
   ]
  },
  {
   "cell_type": "code",
   "execution_count": 12,
   "metadata": {},
   "outputs": [
    {
     "name": "stdout",
     "output_type": "stream",
     "text": [
      "h0_state shape:  tf.Tensor([ 1 50], shape=(2,), dtype=int32)\n",
      "first 15 hidden states:  tf.Tensor([1. 0. 1. 1. 1. 1. 1. 0. 1. 0. 0. 0. 0. 1. 1.], shape=(15,), dtype=float32)\n"
     ]
    }
   ],
   "source": [
    "#computing the hidden nodes probability vector and checking shape\n",
    "h0_prob = tf.nn.sigmoid(tf.matmul([v0_state], W) + hb)  #probabilities of the hidden units\n",
    "print(\"h0_state shape: \" , tf.shape(h0_prob))\n",
    "\n",
    "#defining a function to return only the generated hidden states \n",
    "def hidden_layer(v0_state, W, hb):\n",
    "    h0_prob = tf.nn.sigmoid(tf.matmul([v0_state], W) + hb)  #probabilities of the hidden units\n",
    "    h0_state = tf.nn.relu(tf.sign(h0_prob - tf.random.uniform(tf.shape(h0_prob)))) #sample_h_given_X\n",
    "    return h0_state\n",
    "\n",
    "\n",
    "h0_state = hidden_layer(v0_state, W, hb)\n",
    "print(\"first 15 hidden states: \", h0_state[0][0:15])"
   ]
  },
  {
   "cell_type": "markdown",
   "metadata": {},
   "source": [
    "Now, we define reconstruction part:\n"
   ]
  },
  {
   "cell_type": "code",
   "execution_count": 14,
   "metadata": {},
   "outputs": [
    {
     "name": "stdout",
     "output_type": "stream",
     "text": [
      "hidden state shape:  (1, 50)\n",
      "v0 state shape:   (784,)\n",
      "v1 state shape:   (784,)\n"
     ]
    }
   ],
   "source": [
    "def reconstructed_output(h0_state, W, vb):\n",
    "    v1_prob = tf.nn.sigmoid(tf.matmul(h0_state, tf.transpose(W)) + vb) \n",
    "    v1_state = tf.nn.relu(tf.sign(v1_prob - tf.random.uniform(tf.shape(v1_prob)))) #sample_v_given_h\n",
    "    return v1_state[0]\n",
    "\n",
    "v1_state = reconstructed_output(h0_state, W, vb)\n",
    "print(\"hidden state shape: \", h0_state.shape)\n",
    "print(\"v0 state shape:  \", v0_state.shape)\n",
    "print(\"v1 state shape:  \", v1_state.shape)"
   ]
  },
  {
   "cell_type": "markdown",
   "metadata": {},
   "source": [
    "<h3>What is the objective function?</h3>\n",
    "\n",
    "<b>Goal</b>: Maximize the likelihood of our data being drawn from that distribution\n",
    "\n",
    "<b>Calculate error:</b>  \n",
    "In each epoch, we compute the \"error\" as a sum of the squared difference between step 1 and step n,\n",
    "e.g the error shows the difference between the data and its reconstruction.\n",
    "\n",
    "<b>Note:</b> tf.reduce_mean computes the mean of elements across dimensions of a tensor.\n"
   ]
  },
  {
   "cell_type": "code",
   "execution_count": 15,
   "metadata": {},
   "outputs": [
    {
     "name": "stdout",
     "output_type": "stream",
     "text": [
      "error 0.50510204\n"
     ]
    }
   ],
   "source": [
    "def error(v0_state, v1_state):\n",
    "    return tf.reduce_mean(tf.square(v0_state - v1_state))\n",
    "\n",
    "err = tf.reduce_mean(tf.square(v0_state - v1_state))\n",
    "print(\"error\" , err.numpy())"
   ]
  },
  {
   "cell_type": "markdown",
   "metadata": {},
   "source": [
    "<a id=\"ref4\"></a>\n",
    "\n",
    "<h3>Training the Model</h3>\n",
    "<b>Warning...</b> The following part is math-heavy, but you can skip it if you just want to run the cells in the next section.\n",
    "\n",
    "As mentioned, we want to give a high probability to the input data we train on. So, in order to train an RBM, we have to maximize the product of probabilities assigned to all rows $\\mathbf{v}$ (images) in the training set $\\mathbf{V}$ (a matrix, where each row of it is treated as a visible vector $\\mathbf{v}$)\n",
    "\n",
    "$$\\arg\\max_W\\prod_{\\mathbf{v}\\in\\mathbf{V}_T}p(\\mathbf{v}),$$\n",
    "\n",
    "which is equivalent to maximizing the expectation of the log probability, given as\n",
    "\n",
    "$$\\arg\\max_W\\left[ \\mathbb{E} \\left(\\prod_{\\mathbf v\\in \\mathbf V}\\text{log} \\left(p(\\mathbf v)\\right) \\right) \\right].$$\n",
    "\n",
    "So, we have to update the weights $W_{ij}$  to increase $p(\\mathbf{v})$ for all $\\mathbf{v}$ in our training data during training. So we have to calculate the derivative:\n",
    "\n",
    "$$\\frac{\\partial \\log p(\\mathbf v)}{\\partial W_{ij}}$$\n",
    "\n",
    "This cannot be easily done by typical <b>gradient descent (SGD)</b>, so we can use another approach, which has 2 steps:\n",
    "\n",
    "<ol>\n",
    "    <li>Gibbs Sampling</li>\n",
    "    <li>Contrastive Divergence</li>\n",
    "</ol>    \n",
    "    \n",
    "<h3>Gibbs Sampling</h3>   \n",
    "\n",
    "<h4>Gibbs Sampling Step 1</h4> \n",
    "Given an input vector $\\mathbf{v}$, we are using $p(\\mathbf{h}|\\mathbf{v})$ to predict the hidden values $\\mathbf{h}$. \n",
    "  $$p({h_j}|\\mathbf v)= \\sigma\\left(\\sum_{i=1}^V W_{ij} v_i + h_{bias} \\right)$$\n",
    "The samples are generated from this distribution by generating the uniform random variate vector $\\mathbf{\\xi} \\sim U[0,1]$ of length $H$ and comparing to the computed probabilities as\n",
    "\n",
    "<center>If $\\xi_j>p(h_{j}|\\mathbf{v})$, then $h_j=1$, else $h_j=0$.</center>\n",
    "\n",
    "<h4>Gibbs Sampling Step 2</h4> \n",
    "Then, knowing the hidden values, we use $p(\\mathbf v| \\mathbf h)$ for reconstructing of new input values v. \n",
    "\n",
    "   $$p({v_i}|\\mathbf h)= \\sigma\\left(\\sum_{j=1}^H W^{T}_{ij} h_j + v_{bias} \\right)$$\n",
    "\n",
    "The samples are generated from this distribution by generating a uniform random variate vector $\\mathbf{\\xi} \\sim U[0,1]$ of length $V$ and comparing to the computed probabilities as\n",
    "\n",
    "<center>If $\\xi_i>p(v_{i}|\\mathbf{h})$, then $v_i=1$, else $v_i=0$.</center>\n",
    "\n",
    "Let vectors $\\mathbf v_k$ and $\\mathbf h_k$ be for the $k$th iteration.  In general, the $kth$ state is generrated as: \n",
    "\n",
    "<b>Iteration</b> $k$: \n",
    "\n",
    "$$\\mathbf v_{k-1} \\Rightarrow p(\\mathbf h_{k-1}|\\mathbf v_{k-1})\\Rightarrow \\mathbf h_{k-1}\\Rightarrow p(\\mathbf v_{k}|\\mathbf h_{k-1})\\Rightarrow \\mathbf v_k$$       \n",
    "\n",
    "<h3>Contrastive Divergence (CD-k)</h3>\n",
    "The update of the weight matrix is done during the Contrastive Divergence step. \n",
    "\n",
    "Vectors v0 and vk are used to calculate the activation probabilities for hidden values h0 and hk. The difference between the outer products of those probabilities with input vectors v0 and vk results in the update matrix:\n",
    "\n",
    "$\\Delta \\mathbf W_k =\\mathbf v_k \\otimes \\mathbf h_k - \\mathbf v_{k-1} \\otimes \\mathbf h_{k-1}$ \n",
    "\n",
    "Contrastive Divergence is actually matrix of values that is computed and used to adjust values of the $\\mathbf W$ matrix. Changing $\\mathbf W$ incrementally leads to training of the  $\\mathbf W$ values. Then, on each step (epoch), $\\mathbf W$ is updated using the following:\n",
    "\n",
    "$\\mathbf W_k = \\mathbf W_{k-1} + \\alpha * \\Delta \\mathbf W_k$ \n",
    "\n",
    "Reconstruction steps:\n",
    "\n",
    "<ul>\n",
    "    <li> Get one data point from data set, like <i>x</i>, and pass it through the following steps:</li>\n",
    "    \n",
    "<b>Iteration</b> $k=1$: \n",
    "    \n",
    "Sampling (starting with input image)\n",
    "    $$\\mathbf x = \\mathbf v_0 \\Rightarrow p(\\mathbf h_0|\\mathbf v_0)\\Rightarrow \\mathbf h_0 \\Rightarrow p(\\mathbf v_1|\\mathbf h_0)\\Rightarrow \\mathbf v_1$$   \n",
    "    followed by the CD-k step\n",
    "$$\\Delta \\mathbf W_1 =\\mathbf v_1 \\otimes \\mathbf h_1 - \\mathbf v_{0} \\otimes \\mathbf h_{0}$$     \n",
    "$$\\mathbf W_1 = \\mathbf W_{0} + \\alpha * \\Delta \\mathbf W_1$$ \n",
    " \n",
    "<li> $\\mathbf v_1$ is the reconstruction of $\\mathbf x$ sent to the next iteration).</li>\n",
    "\n",
    "<b>Iteration</b> $k=2$: \n",
    "\n",
    "Sampling (starting with $\\mathbf v_1$)\n",
    "\n",
    "$$\\mathbf v_1 \\Rightarrow p(\\mathbf h_1|\\mathbf v_1)\\Rightarrow \\mathbf h_1\\Rightarrow p(\\mathbf v_2|\\mathbf h_1)\\Rightarrow \\mathbf v_2$$   \n",
    "\n",
    "followed by the CD-k step\n",
    "$$\\Delta \\mathbf W_2 =\\mathbf v_2 \\otimes \\mathbf h_2 - \\mathbf v_{1} \\otimes \\mathbf h_{1}$$  \n",
    "$$\\mathbf W_2 = \\mathbf W_{1} + \\alpha * \\Delta \\mathbf W_2$$ \n",
    "\n",
    "<li> $\\mathbf v_2$ is the reconstruction of $\\mathbf v_1$ sent to the next iteration).</li>    \n",
    "      \n",
    "<b>Iteration</b> $k=K$:\n",
    "    \n",
    "Sampling (starting with $\\mathbf v_{K-1}$)\n",
    "\n",
    "$$\\mathbf v_{K-1} \\Rightarrow p(\\mathbf h_{K-1}|\\mathbf v_{K-1})\\Rightarrow \\mathbf h_{K-1}\\Rightarrow p(\\mathbf v_K|\\mathbf h_{K-1})\\Rightarrow \\mathbf v_K$$   \n",
    "\n",
    "followed by the CD-k step\n",
    "$$\\Delta \\mathbf W_K =\\mathbf v_K \\otimes \\mathbf h_K - \\mathbf v_{K-1} \\otimes \\mathbf h_{K-1}$$  \n",
    "$$\\mathbf W_K = \\mathbf W_{K-1} + \\alpha * \\Delta \\mathbf W_K$$ \n",
    "\n",
    "<b>What is $\\alpha$?</b>  \n",
    "Here, alpha is some small step size, and is also known as the \"learning rate\".\n"
   ]
  },
  {
   "cell_type": "markdown",
   "metadata": {},
   "source": [
    "$K$ is adjustable, and good performance can be achieved with $K=1$, so that we just take one set of sampling steps per image.\n"
   ]
  },
  {
   "cell_type": "code",
   "execution_count": 16,
   "metadata": {},
   "outputs": [],
   "source": [
    "h1_prob = tf.nn.sigmoid(tf.matmul([v1_state], W) + hb)\n",
    "h1_state = tf.nn.relu(tf.sign(h1_prob - tf.random.uniform(tf.shape(h1_prob)))) #sample_h_given_X"
   ]
  },
  {
   "cell_type": "markdown",
   "metadata": {},
   "source": [
    "Lets look at the error of the first run:\n"
   ]
  },
  {
   "cell_type": "code",
   "execution_count": 17,
   "metadata": {},
   "outputs": [
    {
     "name": "stdout",
     "output_type": "stream",
     "text": [
      "error:  tf.Tensor(0.50510204, shape=(), dtype=float32)\n"
     ]
    }
   ],
   "source": [
    "print(\"error: \", error(v0_state, v1_state))"
   ]
  },
  {
   "cell_type": "code",
   "execution_count": 18,
   "metadata": {},
   "outputs": [
    {
     "name": "stdout",
     "output_type": "stream",
     "text": [
      "Epoch: 0 batch #: 1  of 300 sample #: 199 reconstruction error: 0.165134\n",
      "Epoch: 0 batch #: 2  of 300 sample #: 199 reconstruction error: 0.184997\n",
      "Epoch: 0 batch #: 3  of 300 sample #: 199 reconstruction error: 0.116963\n",
      "Epoch: 0 batch #: 4  of 300 sample #: 199 reconstruction error: 0.132669\n",
      "Epoch: 0 batch #: 5  of 300 sample #: 199 reconstruction error: 0.114374\n",
      "Epoch: 0 batch #: 6  of 300 sample #: 199 reconstruction error: 0.206047\n",
      "Epoch: 0 batch #: 7  of 300 sample #: 199 reconstruction error: 0.083402\n",
      "Epoch: 0 batch #: 8  of 300 sample #: 199 reconstruction error: 0.115367\n",
      "Epoch: 0 batch #: 9  of 300 sample #: 199 reconstruction error: 0.096081\n",
      "Epoch: 0 batch #: 10  of 300 sample #: 199 reconstruction error: 0.166222\n",
      "Epoch: 0 batch #: 11  of 300 sample #: 199 reconstruction error: 0.091971\n",
      "Epoch: 0 batch #: 12  of 300 sample #: 199 reconstruction error: 0.140347\n",
      "Epoch: 0 batch #: 13  of 300 sample #: 199 reconstruction error: 0.051964\n",
      "Epoch: 0 batch #: 14  of 300 sample #: 199 reconstruction error: 0.118064\n",
      "Epoch: 0 batch #: 15  of 300 sample #: 199 reconstruction error: 0.120524\n",
      "Epoch: 0 batch #: 16  of 300 sample #: 199 reconstruction error: 0.120543\n",
      "Epoch: 0 batch #: 17  of 300 sample #: 199 reconstruction error: 0.069290\n",
      "Epoch: 0 batch #: 18  of 300 sample #: 199 reconstruction error: 0.105754\n",
      "Epoch: 0 batch #: 19  of 300 sample #: 199 reconstruction error: 0.124834\n",
      "Epoch: 0 batch #: 20  of 300 sample #: 199 reconstruction error: 0.104022\n",
      "Epoch: 0 batch #: 21  of 300 sample #: 199 reconstruction error: 0.108981\n",
      "Epoch: 0 batch #: 22  of 300 sample #: 199 reconstruction error: 0.085007\n",
      "Epoch: 0 batch #: 23  of 300 sample #: 199 reconstruction error: 0.109004\n",
      "Epoch: 0 batch #: 24  of 300 sample #: 199 reconstruction error: 0.124079\n",
      "Epoch: 0 batch #: 25  of 300 sample #: 199 reconstruction error: 0.105387\n",
      "Epoch: 0 batch #: 26  of 300 sample #: 199 reconstruction error: 0.122996\n",
      "Epoch: 0 batch #: 27  of 300 sample #: 199 reconstruction error: 0.102756\n",
      "Epoch: 0 batch #: 28  of 300 sample #: 199 reconstruction error: 0.068274\n",
      "Epoch: 0 batch #: 29  of 300 sample #: 199 reconstruction error: 0.104507\n",
      "Epoch: 0 batch #: 30  of 300 sample #: 199 reconstruction error: 0.081635\n",
      "Epoch: 0 batch #: 31  of 300 sample #: 199 reconstruction error: 0.095075\n",
      "Epoch: 0 batch #: 32  of 300 sample #: 199 reconstruction error: 0.130413\n",
      "Epoch: 0 batch #: 33  of 300 sample #: 199 reconstruction error: 0.062264\n",
      "Epoch: 0 batch #: 34  of 300 sample #: 199 reconstruction error: 0.067237\n",
      "Epoch: 0 batch #: 35  of 300 sample #: 199 reconstruction error: 0.075030\n",
      "Epoch: 0 batch #: 36  of 300 sample #: 199 reconstruction error: 0.073109\n",
      "Epoch: 0 batch #: 37  of 300 sample #: 199 reconstruction error: 0.075989\n",
      "Epoch: 0 batch #: 38  of 300 sample #: 199 reconstruction error: 0.052041\n",
      "Epoch: 0 batch #: 39  of 300 sample #: 199 reconstruction error: 0.088876\n",
      "Epoch: 0 batch #: 40  of 300 sample #: 199 reconstruction error: 0.111969\n",
      "Epoch: 0 batch #: 41  of 300 sample #: 199 reconstruction error: 0.081439\n",
      "Epoch: 0 batch #: 42  of 300 sample #: 199 reconstruction error: 0.051799\n",
      "Epoch: 0 batch #: 43  of 300 sample #: 199 reconstruction error: 0.131666\n",
      "Epoch: 0 batch #: 44  of 300 sample #: 199 reconstruction error: 0.073581\n",
      "Epoch: 0 batch #: 45  of 300 sample #: 199 reconstruction error: 0.063923\n",
      "Epoch: 0 batch #: 46  of 300 sample #: 199 reconstruction error: 0.041175\n",
      "Epoch: 0 batch #: 47  of 300 sample #: 199 reconstruction error: 0.039285\n",
      "Epoch: 0 batch #: 48  of 300 sample #: 199 reconstruction error: 0.047774\n",
      "Epoch: 0 batch #: 49  of 300 sample #: 199 reconstruction error: 0.129435\n",
      "Epoch: 0 batch #: 50  of 300 sample #: 199 reconstruction error: 0.047377\n",
      "Epoch: 0 batch #: 51  of 300 sample #: 199 reconstruction error: 0.061715\n",
      "Epoch: 0 batch #: 52  of 300 sample #: 199 reconstruction error: 0.027442\n",
      "Epoch: 0 batch #: 53  of 300 sample #: 199 reconstruction error: 0.106987\n",
      "Epoch: 0 batch #: 54  of 300 sample #: 199 reconstruction error: 0.054825\n",
      "Epoch: 0 batch #: 55  of 300 sample #: 199 reconstruction error: 0.118508\n",
      "Epoch: 0 batch #: 56  of 300 sample #: 199 reconstruction error: 0.055980\n",
      "Epoch: 0 batch #: 57  of 300 sample #: 199 reconstruction error: 0.044548\n",
      "Epoch: 0 batch #: 58  of 300 sample #: 199 reconstruction error: 0.070896\n",
      "Epoch: 0 batch #: 59  of 300 sample #: 199 reconstruction error: 0.047547\n",
      "Epoch: 0 batch #: 60  of 300 sample #: 199 reconstruction error: 0.080994\n",
      "Epoch: 0 batch #: 61  of 300 sample #: 199 reconstruction error: 0.071778\n",
      "Epoch: 0 batch #: 62  of 300 sample #: 199 reconstruction error: 0.085275\n",
      "Epoch: 0 batch #: 63  of 300 sample #: 199 reconstruction error: 0.054746\n",
      "Epoch: 0 batch #: 64  of 300 sample #: 199 reconstruction error: 0.075898\n",
      "Epoch: 0 batch #: 65  of 300 sample #: 199 reconstruction error: 0.083954\n",
      "Epoch: 0 batch #: 66  of 300 sample #: 199 reconstruction error: 0.057990\n",
      "Epoch: 0 batch #: 67  of 300 sample #: 199 reconstruction error: 0.047974\n",
      "Epoch: 0 batch #: 68  of 300 sample #: 199 reconstruction error: 0.061313\n",
      "Epoch: 0 batch #: 69  of 300 sample #: 199 reconstruction error: 0.086589\n",
      "Epoch: 0 batch #: 70  of 300 sample #: 199 reconstruction error: 0.095883\n",
      "Epoch: 0 batch #: 71  of 300 sample #: 199 reconstruction error: 0.081587\n",
      "Epoch: 0 batch #: 72  of 300 sample #: 199 reconstruction error: 0.074205\n",
      "Epoch: 0 batch #: 73  of 300 sample #: 199 reconstruction error: 0.092546\n",
      "Epoch: 0 batch #: 74  of 300 sample #: 199 reconstruction error: 0.091198\n",
      "Epoch: 0 batch #: 75  of 300 sample #: 199 reconstruction error: 0.056721\n",
      "Epoch: 0 batch #: 76  of 300 sample #: 199 reconstruction error: 0.079177\n",
      "Epoch: 0 batch #: 77  of 300 sample #: 199 reconstruction error: 0.094236\n",
      "Epoch: 0 batch #: 78  of 300 sample #: 199 reconstruction error: 0.109782\n",
      "Epoch: 0 batch #: 79  of 300 sample #: 199 reconstruction error: 0.116600\n",
      "Epoch: 0 batch #: 80  of 300 sample #: 199 reconstruction error: 0.033607\n",
      "Epoch: 0 batch #: 81  of 300 sample #: 199 reconstruction error: 0.061534\n",
      "Epoch: 0 batch #: 82  of 300 sample #: 199 reconstruction error: 0.052880\n",
      "Epoch: 0 batch #: 83  of 300 sample #: 199 reconstruction error: 0.077625\n",
      "Epoch: 0 batch #: 84  of 300 sample #: 199 reconstruction error: 0.084370\n",
      "Epoch: 0 batch #: 85  of 300 sample #: 199 reconstruction error: 0.040456\n",
      "Epoch: 0 batch #: 86  of 300 sample #: 199 reconstruction error: 0.091606\n",
      "Epoch: 0 batch #: 87  of 300 sample #: 199 reconstruction error: 0.077186\n",
      "Epoch: 0 batch #: 88  of 300 sample #: 199 reconstruction error: 0.027186\n",
      "Epoch: 0 batch #: 89  of 300 sample #: 199 reconstruction error: 0.066501\n",
      "Epoch: 0 batch #: 90  of 300 sample #: 199 reconstruction error: 0.076880\n",
      "Epoch: 0 batch #: 91  of 300 sample #: 199 reconstruction error: 0.062242\n",
      "Epoch: 0 batch #: 92  of 300 sample #: 199 reconstruction error: 0.076018\n",
      "Epoch: 0 batch #: 93  of 300 sample #: 199 reconstruction error: 0.124706\n",
      "Epoch: 0 batch #: 94  of 300 sample #: 199 reconstruction error: 0.122363\n",
      "Epoch: 0 batch #: 95  of 300 sample #: 199 reconstruction error: 0.085508\n",
      "Epoch: 0 batch #: 96  of 300 sample #: 199 reconstruction error: 0.051824\n",
      "Epoch: 0 batch #: 97  of 300 sample #: 199 reconstruction error: 0.105510\n",
      "Epoch: 0 batch #: 98  of 300 sample #: 199 reconstruction error: 0.107547\n",
      "Epoch: 0 batch #: 99  of 300 sample #: 199 reconstruction error: 0.071681\n",
      "Epoch: 0 batch #: 100  of 300 sample #: 199 reconstruction error: 0.107507\n",
      "Epoch: 0 batch #: 101  of 300 sample #: 199 reconstruction error: 0.065619\n",
      "Epoch: 0 batch #: 102  of 300 sample #: 199 reconstruction error: 0.054751\n",
      "Epoch: 0 batch #: 103  of 300 sample #: 199 reconstruction error: 0.072972\n",
      "Epoch: 0 batch #: 104  of 300 sample #: 199 reconstruction error: 0.067441\n",
      "Epoch: 0 batch #: 105  of 300 sample #: 199 reconstruction error: 0.062572\n",
      "Epoch: 0 batch #: 106  of 300 sample #: 199 reconstruction error: 0.101585\n",
      "Epoch: 0 batch #: 107  of 300 sample #: 199 reconstruction error: 0.123492\n",
      "Epoch: 0 batch #: 108  of 300 sample #: 199 reconstruction error: 0.067491\n",
      "Epoch: 0 batch #: 109  of 300 sample #: 199 reconstruction error: 0.101051\n",
      "Epoch: 0 batch #: 110  of 300 sample #: 199 reconstruction error: 0.057881\n",
      "Epoch: 0 batch #: 111  of 300 sample #: 199 reconstruction error: 0.110556\n",
      "Epoch: 0 batch #: 112  of 300 sample #: 199 reconstruction error: 0.047734\n",
      "Epoch: 0 batch #: 113  of 300 sample #: 199 reconstruction error: 0.073309\n",
      "Epoch: 0 batch #: 114  of 300 sample #: 199 reconstruction error: 0.097118\n",
      "Epoch: 0 batch #: 115  of 300 sample #: 199 reconstruction error: 0.070325\n",
      "Epoch: 0 batch #: 116  of 300 sample #: 199 reconstruction error: 0.048734\n",
      "Epoch: 0 batch #: 117  of 300 sample #: 199 reconstruction error: 0.042197\n",
      "Epoch: 0 batch #: 118  of 300 sample #: 199 reconstruction error: 0.086081\n",
      "Epoch: 0 batch #: 119  of 300 sample #: 199 reconstruction error: 0.132136\n",
      "Epoch: 0 batch #: 120  of 300 sample #: 199 reconstruction error: 0.074325\n",
      "Epoch: 0 batch #: 121  of 300 sample #: 199 reconstruction error: 0.046889\n",
      "Epoch: 0 batch #: 122  of 300 sample #: 199 reconstruction error: 0.107490\n",
      "Epoch: 0 batch #: 123  of 300 sample #: 199 reconstruction error: 0.062402\n",
      "Epoch: 0 batch #: 124  of 300 sample #: 199 reconstruction error: 0.069517\n",
      "Epoch: 0 batch #: 125  of 300 sample #: 199 reconstruction error: 0.047392\n",
      "Epoch: 0 batch #: 126  of 300 sample #: 199 reconstruction error: 0.091030\n",
      "Epoch: 0 batch #: 127  of 300 sample #: 199 reconstruction error: 0.095772\n",
      "Epoch: 0 batch #: 128  of 300 sample #: 199 reconstruction error: 0.068342\n",
      "Epoch: 0 batch #: 129  of 300 sample #: 199 reconstruction error: 0.051265\n",
      "Epoch: 0 batch #: 130  of 300 sample #: 199 reconstruction error: 0.068586\n",
      "Epoch: 0 batch #: 131  of 300 sample #: 199 reconstruction error: 0.053768\n",
      "Epoch: 0 batch #: 132  of 300 sample #: 199 reconstruction error: 0.045931\n",
      "Epoch: 0 batch #: 133  of 300 sample #: 199 reconstruction error: 0.058306\n",
      "Epoch: 0 batch #: 134  of 300 sample #: 199 reconstruction error: 0.102300\n",
      "Epoch: 0 batch #: 135  of 300 sample #: 199 reconstruction error: 0.103982\n",
      "Epoch: 0 batch #: 136  of 300 sample #: 199 reconstruction error: 0.094606\n",
      "Epoch: 0 batch #: 137  of 300 sample #: 199 reconstruction error: 0.071502\n",
      "Epoch: 0 batch #: 138  of 300 sample #: 199 reconstruction error: 0.086298\n",
      "Epoch: 0 batch #: 139  of 300 sample #: 199 reconstruction error: 0.114482\n",
      "Epoch: 0 batch #: 140  of 300 sample #: 199 reconstruction error: 0.069874\n",
      "Epoch: 0 batch #: 141  of 300 sample #: 199 reconstruction error: 0.082680\n",
      "Epoch: 0 batch #: 142  of 300 sample #: 199 reconstruction error: 0.062181\n",
      "Epoch: 0 batch #: 143  of 300 sample #: 199 reconstruction error: 0.043446\n",
      "Epoch: 0 batch #: 144  of 300 sample #: 199 reconstruction error: 0.080013\n",
      "Epoch: 0 batch #: 145  of 300 sample #: 199 reconstruction error: 0.082422\n",
      "Epoch: 0 batch #: 146  of 300 sample #: 199 reconstruction error: 0.120696\n",
      "Epoch: 0 batch #: 147  of 300 sample #: 199 reconstruction error: 0.081265\n",
      "Epoch: 0 batch #: 148  of 300 sample #: 199 reconstruction error: 0.079656\n",
      "Epoch: 0 batch #: 149  of 300 sample #: 199 reconstruction error: 0.056887\n",
      "Epoch: 0 batch #: 150  of 300 sample #: 199 reconstruction error: 0.046891\n",
      "Epoch: 0 batch #: 151  of 300 sample #: 199 reconstruction error: 0.097393\n",
      "Epoch: 0 batch #: 152  of 300 sample #: 199 reconstruction error: 0.080873\n",
      "Epoch: 0 batch #: 153  of 300 sample #: 199 reconstruction error: 0.061613\n",
      "Epoch: 0 batch #: 154  of 300 sample #: 199 reconstruction error: 0.068420\n",
      "Epoch: 0 batch #: 155  of 300 sample #: 199 reconstruction error: 0.061557\n",
      "Epoch: 0 batch #: 156  of 300 sample #: 199 reconstruction error: 0.069169\n",
      "Epoch: 0 batch #: 157  of 300 sample #: 199 reconstruction error: 0.090463\n",
      "Epoch: 0 batch #: 158  of 300 sample #: 199 reconstruction error: 0.069819\n",
      "Epoch: 0 batch #: 159  of 300 sample #: 199 reconstruction error: 0.066394\n",
      "Epoch: 0 batch #: 160  of 300 sample #: 199 reconstruction error: 0.072109\n",
      "Epoch: 0 batch #: 161  of 300 sample #: 199 reconstruction error: 0.080549\n",
      "Epoch: 0 batch #: 162  of 300 sample #: 199 reconstruction error: 0.137558\n",
      "Epoch: 0 batch #: 163  of 300 sample #: 199 reconstruction error: 0.043223\n",
      "Epoch: 0 batch #: 164  of 300 sample #: 199 reconstruction error: 0.053485\n",
      "Epoch: 0 batch #: 165  of 300 sample #: 199 reconstruction error: 0.088008\n",
      "Epoch: 0 batch #: 166  of 300 sample #: 199 reconstruction error: 0.050046\n",
      "Epoch: 0 batch #: 167  of 300 sample #: 199 reconstruction error: 0.080607\n",
      "Epoch: 0 batch #: 168  of 300 sample #: 199 reconstruction error: 0.054989\n",
      "Epoch: 0 batch #: 169  of 300 sample #: 199 reconstruction error: 0.039007\n",
      "Epoch: 0 batch #: 170  of 300 sample #: 199 reconstruction error: 0.053491\n",
      "Epoch: 0 batch #: 171  of 300 sample #: 199 reconstruction error: 0.026819\n",
      "Epoch: 0 batch #: 172  of 300 sample #: 199 reconstruction error: 0.043794\n",
      "Epoch: 0 batch #: 173  of 300 sample #: 199 reconstruction error: 0.068307\n",
      "Epoch: 0 batch #: 174  of 300 sample #: 199 reconstruction error: 0.113195\n",
      "Epoch: 0 batch #: 175  of 300 sample #: 199 reconstruction error: 0.058217\n",
      "Epoch: 0 batch #: 176  of 300 sample #: 199 reconstruction error: 0.044821\n",
      "Epoch: 0 batch #: 177  of 300 sample #: 199 reconstruction error: 0.036542\n",
      "Epoch: 0 batch #: 178  of 300 sample #: 199 reconstruction error: 0.110437\n",
      "Epoch: 0 batch #: 179  of 300 sample #: 199 reconstruction error: 0.067526\n",
      "Epoch: 0 batch #: 180  of 300 sample #: 199 reconstruction error: 0.080945\n",
      "Epoch: 0 batch #: 181  of 300 sample #: 199 reconstruction error: 0.104876\n",
      "Epoch: 0 batch #: 182  of 300 sample #: 199 reconstruction error: 0.069694\n",
      "Epoch: 0 batch #: 183  of 300 sample #: 199 reconstruction error: 0.104462\n",
      "Epoch: 0 batch #: 184  of 300 sample #: 199 reconstruction error: 0.062673\n",
      "Epoch: 0 batch #: 185  of 300 sample #: 199 reconstruction error: 0.064015\n",
      "Epoch: 0 batch #: 186  of 300 sample #: 199 reconstruction error: 0.100783\n",
      "Epoch: 0 batch #: 187  of 300 sample #: 199 reconstruction error: 0.067862\n",
      "Epoch: 0 batch #: 188  of 300 sample #: 199 reconstruction error: 0.121454\n",
      "Epoch: 0 batch #: 189  of 300 sample #: 199 reconstruction error: 0.101251\n",
      "Epoch: 0 batch #: 190  of 300 sample #: 199 reconstruction error: 0.069746\n",
      "Epoch: 0 batch #: 191  of 300 sample #: 199 reconstruction error: 0.102962\n",
      "Epoch: 0 batch #: 192  of 300 sample #: 199 reconstruction error: 0.138727\n",
      "Epoch: 0 batch #: 193  of 300 sample #: 199 reconstruction error: 0.107891\n",
      "Epoch: 0 batch #: 194  of 300 sample #: 199 reconstruction error: 0.081050\n",
      "Epoch: 0 batch #: 195  of 300 sample #: 199 reconstruction error: 0.048734\n",
      "Epoch: 0 batch #: 196  of 300 sample #: 199 reconstruction error: 0.052220\n",
      "Epoch: 0 batch #: 197  of 300 sample #: 199 reconstruction error: 0.047957\n",
      "Epoch: 0 batch #: 198  of 300 sample #: 199 reconstruction error: 0.087463\n",
      "Epoch: 0 batch #: 199  of 300 sample #: 199 reconstruction error: 0.063227\n",
      "Epoch: 0 batch #: 200  of 300 sample #: 199 reconstruction error: 0.098219\n",
      "Epoch: 0 batch #: 201  of 300 sample #: 199 reconstruction error: 0.091393\n",
      "Epoch: 0 batch #: 202  of 300 sample #: 199 reconstruction error: 0.030239\n",
      "Epoch: 0 batch #: 203  of 300 sample #: 199 reconstruction error: 0.079462\n",
      "Epoch: 0 batch #: 204  of 300 sample #: 199 reconstruction error: 0.056507\n",
      "Epoch: 0 batch #: 205  of 300 sample #: 199 reconstruction error: 0.033410\n",
      "Epoch: 0 batch #: 206  of 300 sample #: 199 reconstruction error: 0.062022\n",
      "Epoch: 0 batch #: 207  of 300 sample #: 199 reconstruction error: 0.085965\n",
      "Epoch: 0 batch #: 208  of 300 sample #: 199 reconstruction error: 0.055200\n",
      "Epoch: 0 batch #: 209  of 300 sample #: 199 reconstruction error: 0.031106\n",
      "Epoch: 0 batch #: 210  of 300 sample #: 199 reconstruction error: 0.095946\n",
      "Epoch: 0 batch #: 211  of 300 sample #: 199 reconstruction error: 0.112797\n",
      "Epoch: 0 batch #: 212  of 300 sample #: 199 reconstruction error: 0.086157\n",
      "Epoch: 0 batch #: 213  of 300 sample #: 199 reconstruction error: 0.086832\n",
      "Epoch: 0 batch #: 214  of 300 sample #: 199 reconstruction error: 0.103824\n",
      "Epoch: 0 batch #: 215  of 300 sample #: 199 reconstruction error: 0.023930\n",
      "Epoch: 0 batch #: 216  of 300 sample #: 199 reconstruction error: 0.088947\n",
      "Epoch: 0 batch #: 217  of 300 sample #: 199 reconstruction error: 0.089584\n",
      "Epoch: 0 batch #: 218  of 300 sample #: 199 reconstruction error: 0.073884\n",
      "Epoch: 0 batch #: 219  of 300 sample #: 199 reconstruction error: 0.067780\n",
      "Epoch: 0 batch #: 220  of 300 sample #: 199 reconstruction error: 0.060066\n",
      "Epoch: 0 batch #: 221  of 300 sample #: 199 reconstruction error: 0.090859\n",
      "Epoch: 0 batch #: 222  of 300 sample #: 199 reconstruction error: 0.082295\n",
      "Epoch: 0 batch #: 223  of 300 sample #: 199 reconstruction error: 0.079386\n",
      "Epoch: 0 batch #: 224  of 300 sample #: 199 reconstruction error: 0.077821\n",
      "Epoch: 0 batch #: 225  of 300 sample #: 199 reconstruction error: 0.088901\n",
      "Epoch: 0 batch #: 226  of 300 sample #: 199 reconstruction error: 0.125626\n",
      "Epoch: 0 batch #: 227  of 300 sample #: 199 reconstruction error: 0.066447\n",
      "Epoch: 0 batch #: 228  of 300 sample #: 199 reconstruction error: 0.072938\n",
      "Epoch: 0 batch #: 229  of 300 sample #: 199 reconstruction error: 0.068427\n",
      "Epoch: 0 batch #: 230  of 300 sample #: 199 reconstruction error: 0.036254\n",
      "Epoch: 0 batch #: 231  of 300 sample #: 199 reconstruction error: 0.016431\n",
      "Epoch: 0 batch #: 232  of 300 sample #: 199 reconstruction error: 0.067298\n",
      "Epoch: 0 batch #: 233  of 300 sample #: 199 reconstruction error: 0.072756\n",
      "Epoch: 0 batch #: 234  of 300 sample #: 199 reconstruction error: 0.074281\n",
      "Epoch: 0 batch #: 235  of 300 sample #: 199 reconstruction error: 0.080509\n",
      "Epoch: 0 batch #: 236  of 300 sample #: 199 reconstruction error: 0.101842\n",
      "Epoch: 0 batch #: 237  of 300 sample #: 199 reconstruction error: 0.078805\n",
      "Epoch: 0 batch #: 238  of 300 sample #: 199 reconstruction error: 0.129811\n",
      "Epoch: 0 batch #: 239  of 300 sample #: 199 reconstruction error: 0.029096\n",
      "Epoch: 0 batch #: 240  of 300 sample #: 199 reconstruction error: 0.087207\n",
      "Epoch: 0 batch #: 241  of 300 sample #: 199 reconstruction error: 0.086157\n",
      "Epoch: 0 batch #: 242  of 300 sample #: 199 reconstruction error: 0.066418\n",
      "Epoch: 0 batch #: 243  of 300 sample #: 199 reconstruction error: 0.062932\n",
      "Epoch: 0 batch #: 244  of 300 sample #: 199 reconstruction error: 0.079758\n",
      "Epoch: 0 batch #: 245  of 300 sample #: 199 reconstruction error: 0.087153\n",
      "Epoch: 0 batch #: 246  of 300 sample #: 199 reconstruction error: 0.086794\n",
      "Epoch: 0 batch #: 247  of 300 sample #: 199 reconstruction error: 0.051567\n",
      "Epoch: 0 batch #: 248  of 300 sample #: 199 reconstruction error: 0.063550\n",
      "Epoch: 0 batch #: 249  of 300 sample #: 199 reconstruction error: 0.052954\n",
      "Epoch: 0 batch #: 250  of 300 sample #: 199 reconstruction error: 0.102327\n",
      "Epoch: 0 batch #: 251  of 300 sample #: 199 reconstruction error: 0.056179\n",
      "Epoch: 0 batch #: 252  of 300 sample #: 199 reconstruction error: 0.079861\n",
      "Epoch: 0 batch #: 253  of 300 sample #: 199 reconstruction error: 0.051628\n",
      "Epoch: 0 batch #: 254  of 300 sample #: 199 reconstruction error: 0.040742\n",
      "Epoch: 0 batch #: 255  of 300 sample #: 199 reconstruction error: 0.051406\n",
      "Epoch: 0 batch #: 256  of 300 sample #: 199 reconstruction error: 0.073673\n",
      "Epoch: 0 batch #: 257  of 300 sample #: 199 reconstruction error: 0.096346\n",
      "Epoch: 0 batch #: 258  of 300 sample #: 199 reconstruction error: 0.081031\n",
      "Epoch: 0 batch #: 259  of 300 sample #: 199 reconstruction error: 0.066260\n",
      "Epoch: 0 batch #: 260  of 300 sample #: 199 reconstruction error: 0.099659\n",
      "Epoch: 0 batch #: 261  of 300 sample #: 199 reconstruction error: 0.040404\n",
      "Epoch: 0 batch #: 262  of 300 sample #: 199 reconstruction error: 0.050617\n",
      "Epoch: 0 batch #: 263  of 300 sample #: 199 reconstruction error: 0.076901\n",
      "Epoch: 0 batch #: 264  of 300 sample #: 199 reconstruction error: 0.077576\n",
      "Epoch: 0 batch #: 265  of 300 sample #: 199 reconstruction error: 0.073045\n",
      "Epoch: 0 batch #: 266  of 300 sample #: 199 reconstruction error: 0.040431\n",
      "Epoch: 0 batch #: 267  of 300 sample #: 199 reconstruction error: 0.055421\n",
      "Epoch: 0 batch #: 268  of 300 sample #: 199 reconstruction error: 0.023734\n",
      "Epoch: 0 batch #: 269  of 300 sample #: 199 reconstruction error: 0.093570\n",
      "Epoch: 0 batch #: 270  of 300 sample #: 199 reconstruction error: 0.089319\n",
      "Epoch: 0 batch #: 271  of 300 sample #: 199 reconstruction error: 0.043167\n",
      "Epoch: 0 batch #: 272  of 300 sample #: 199 reconstruction error: 0.048275\n",
      "Epoch: 0 batch #: 273  of 300 sample #: 199 reconstruction error: 0.036550\n",
      "Epoch: 0 batch #: 274  of 300 sample #: 199 reconstruction error: 0.061549\n",
      "Epoch: 0 batch #: 275  of 300 sample #: 199 reconstruction error: 0.083935\n",
      "Epoch: 0 batch #: 276  of 300 sample #: 199 reconstruction error: 0.082620\n",
      "Epoch: 0 batch #: 277  of 300 sample #: 199 reconstruction error: 0.067227\n",
      "Epoch: 0 batch #: 278  of 300 sample #: 199 reconstruction error: 0.065272\n",
      "Epoch: 0 batch #: 279  of 300 sample #: 199 reconstruction error: 0.044948\n",
      "Epoch: 0 batch #: 280  of 300 sample #: 199 reconstruction error: 0.066890\n",
      "Epoch: 0 batch #: 281  of 300 sample #: 199 reconstruction error: 0.072703\n",
      "Epoch: 0 batch #: 282  of 300 sample #: 199 reconstruction error: 0.100699\n",
      "Epoch: 0 batch #: 283  of 300 sample #: 199 reconstruction error: 0.045881\n",
      "Epoch: 0 batch #: 284  of 300 sample #: 199 reconstruction error: 0.052543\n",
      "Epoch: 0 batch #: 285  of 300 sample #: 199 reconstruction error: 0.065261\n",
      "Epoch: 0 batch #: 286  of 300 sample #: 199 reconstruction error: 0.079912\n",
      "Epoch: 0 batch #: 287  of 300 sample #: 199 reconstruction error: 0.063296\n",
      "Epoch: 0 batch #: 288  of 300 sample #: 199 reconstruction error: 0.034290\n",
      "Epoch: 0 batch #: 289  of 300 sample #: 199 reconstruction error: 0.089263\n",
      "Epoch: 0 batch #: 290  of 300 sample #: 199 reconstruction error: 0.102565\n",
      "Epoch: 0 batch #: 291  of 300 sample #: 199 reconstruction error: 0.103396\n",
      "Epoch: 0 batch #: 292  of 300 sample #: 199 reconstruction error: 0.063494\n",
      "Epoch: 0 batch #: 293  of 300 sample #: 199 reconstruction error: 0.049657\n",
      "Epoch: 0 batch #: 294  of 300 sample #: 199 reconstruction error: 0.093005\n",
      "Epoch: 0 batch #: 295  of 300 sample #: 199 reconstruction error: 0.073086\n",
      "Epoch: 0 batch #: 296  of 300 sample #: 199 reconstruction error: 0.024663\n",
      "Epoch: 0 batch #: 297  of 300 sample #: 199 reconstruction error: 0.104382\n",
      "Epoch: 0 batch #: 298  of 300 sample #: 199 reconstruction error: 0.058545\n",
      "Epoch: 0 batch #: 299  of 300 sample #: 199 reconstruction error: 0.053217\n",
      "Epoch: 0 batch #: 300  of 300 sample #: 199 reconstruction error: 0.086681\n"
     ]
    }
   ],
   "source": [
    "#Parameters\n",
    "alpha = 0.01\n",
    "epochs = 1\n",
    "batchsize = 200\n",
    "weights = []\n",
    "errors = []\n",
    "batch_number = 0\n",
    "K = 1\n",
    "\n",
    "#creating datasets\n",
    "train_ds = \\\n",
    "    tf.data.Dataset.from_tensor_slices((trX, trY)).batch(batchsize)\n",
    "\n",
    "for epoch in range(epochs):\n",
    "    for batch_x, batch_y in train_ds:\n",
    "        batch_number += 1\n",
    "        for i_sample in range(batchsize):           \n",
    "            for k in range(K):\n",
    "                v0_state = batch_x[i_sample]\n",
    "                h0_state = hidden_layer(v0_state, W, hb)\n",
    "                v1_state = reconstructed_output(h0_state, W, vb)\n",
    "                h1_state = hidden_layer(v1_state, W, hb)\n",
    "\n",
    "                delta_W = tf.matmul(tf.transpose([v0_state]), h0_state) - tf.matmul(tf.transpose([v1_state]), h1_state)\n",
    "                W = W + alpha * delta_W\n",
    "\n",
    "                vb = vb + alpha * tf.reduce_mean(v0_state - v1_state, 0)\n",
    "                hb = hb + alpha * tf.reduce_mean(h0_state - h1_state, 0) \n",
    "\n",
    "                v0_state = v1_state\n",
    "\n",
    "            if i_sample == batchsize-1:\n",
    "                err = error(batch_x[i_sample], v1_state)\n",
    "                errors.append(err)\n",
    "                weights.append(W)\n",
    "                print ( 'Epoch: %d' % epoch, \n",
    "                       \"batch #: %i \" % batch_number, \"of %i\" % int(60e3/batchsize), \n",
    "                       \"sample #: %i\" % i_sample,\n",
    "                       'reconstruction error: %f' % err)\n",
    "\n"
   ]
  },
  {
   "cell_type": "markdown",
   "metadata": {},
   "source": [
    "Let's take a look at the errors at the end of each batch:\n"
   ]
  },
  {
   "cell_type": "code",
   "execution_count": null,
   "metadata": {},
   "outputs": [],
   "source": [
    "plt.plot(errors)\n",
    "plt.xlabel(\"Batch Number\")\n",
    "plt.ylabel(\"Error\")\n",
    "plt.show()"
   ]
  },
  {
   "cell_type": "markdown",
   "metadata": {},
   "source": [
    "What is the final weight matrix $W$ after training?\n"
   ]
  },
  {
   "cell_type": "code",
   "execution_count": null,
   "metadata": {},
   "outputs": [],
   "source": [
    "print(W.numpy()) # a weight matrix of shape (50,784)"
   ]
  },
  {
   "cell_type": "markdown",
   "metadata": {},
   "source": [
    "<a id=\"ref5\"></a>\n",
    "\n",
    "<h3>Learned features</h3> \n"
   ]
  },
  {
   "cell_type": "markdown",
   "metadata": {},
   "source": [
    "We can take each hidden unit and visualize the connections between that hidden unit and each element in the input vector. In our case, we have 50 hidden units. Lets visualize those.\n"
   ]
  },
  {
   "cell_type": "markdown",
   "metadata": {},
   "source": [
    "Let's plot the current weights:\n",
    "<b>tile_raster_images</b> helps in generating an easy to grasp image from a set of samples or weights. It transforms the <b>uw</b> (with one flattened image per row of size 784), into an array (of size $28\\times28$) in which images are reshaped and laid out like tiles on a floor.\n"
   ]
  },
  {
   "cell_type": "code",
   "execution_count": null,
   "metadata": {},
   "outputs": [],
   "source": [
    "tile_raster_images(X=W.numpy().T, img_shape=(28, 28), tile_shape=(5, 10), tile_spacing=(1, 1))\n",
    "import matplotlib.pyplot as plt\n",
    "from PIL import Image\n",
    "%matplotlib inline\n",
    "image = Image.fromarray(tile_raster_images(X=W.numpy().T, img_shape=(28, 28) ,tile_shape=(5, 10), tile_spacing=(1, 1)))\n",
    "### Plot image\n",
    "plt.rcParams['figure.figsize'] = (18.0, 18.0)\n",
    "imgplot = plt.imshow(image)\n",
    "imgplot.set_cmap('gray')  "
   ]
  },
  {
   "cell_type": "markdown",
   "metadata": {},
   "source": [
    "Each tile in the above visualization corresponds to a vector of connections between a hidden unit and visible layer's units. \n"
   ]
  },
  {
   "cell_type": "markdown",
   "metadata": {},
   "source": [
    "Let's look at one of the learned weights corresponding to one of hidden units for example. In this particular square, the gray color represents weight = 0, and the whiter it is, the more positive the weights are (closer to 1). Conversely, the darker pixels are, the more negative the weights. The positive pixels will increase the probability of activation in hidden units (after multiplying by input/visible pixels), and negative pixels will decrease the probability of a unit hidden to be 1 (activated). So, why is this important?  So we can see that this specific square (hidden unit) can detect a feature (e.g. a \"/\" shape) and if it exists in the input.\n"
   ]
  },
  {
   "cell_type": "code",
   "execution_count": null,
   "metadata": {},
   "outputs": [],
   "source": [
    "from PIL import Image\n",
    "image = Image.fromarray(tile_raster_images(X =W.numpy().T[10:11], img_shape=(28, 28),tile_shape=(1, 1), tile_spacing=(1, 1)))\n",
    "### Plot image\n",
    "plt.rcParams['figure.figsize'] = (4.0, 4.0)\n",
    "imgplot = plt.imshow(image)\n",
    "imgplot.set_cmap('gray')  "
   ]
  },
  {
   "cell_type": "markdown",
   "metadata": {},
   "source": [
    "Let's look at the reconstruction of an image now. Imagine that we have a destructed image of figure 3. Lets see if our trained network can fix it:\n",
    "\n",
    "First we plot the image:\n"
   ]
  },
  {
   "cell_type": "code",
   "execution_count": null,
   "metadata": {},
   "outputs": [],
   "source": [
    "!wget -O destructed3.jpg  https://ibm.box.com/shared/static/vvm1b63uvuxq88vbw9znpwu5ol380mco.jpg\n",
    "img = Image.open('destructed3.jpg')\n",
    "img"
   ]
  },
  {
   "cell_type": "markdown",
   "metadata": {},
   "source": [
    "Now let's pass this image through the neural net:\n"
   ]
  },
  {
   "cell_type": "code",
   "execution_count": null,
   "metadata": {},
   "outputs": [],
   "source": [
    "# convert the image to a 1d numpy array\n",
    "sample_case = np.array(img.convert('I').resize((28,28))).ravel().reshape((1, -1))/255.0\n",
    "\n",
    "sample_case = tf.cast(sample_case, dtype=tf.float32)"
   ]
  },
  {
   "cell_type": "markdown",
   "metadata": {},
   "source": [
    "Feed the sample case into the network and reconstruct the output:\n"
   ]
  },
  {
   "cell_type": "code",
   "execution_count": null,
   "metadata": {},
   "outputs": [],
   "source": [
    "hh0_p = tf.nn.sigmoid(tf.matmul(sample_case, W) + hb)\n",
    "hh0_s = tf.round(hh0_p)\n",
    "\n",
    "print(\"Probability nodes in hidden layer:\" ,hh0_p)\n",
    "print(\"activated nodes in hidden layer:\" ,hh0_s)\n",
    "\n",
    "# reconstruct\n",
    "vv1_p = tf.nn.sigmoid(tf.matmul(hh0_s, tf.transpose(W)) + vb)\n",
    "\n",
    "print(vv1_p)\n",
    "#rec_prob = sess.run(vv1_p, feed_dict={ hh0_s: hh0_s_val, W: prv_w, vb: prv_vb})"
   ]
  },
  {
   "cell_type": "markdown",
   "metadata": {},
   "source": [
    "Here we plot the reconstructed image:\n"
   ]
  },
  {
   "cell_type": "code",
   "execution_count": null,
   "metadata": {},
   "outputs": [],
   "source": [
    "img = Image.fromarray(tile_raster_images(X=vv1_p.numpy(), img_shape=(28, 28),tile_shape=(1, 1), tile_spacing=(1, 1)))\n",
    "plt.rcParams['figure.figsize'] = (4.0, 4.0)\n",
    "imgplot = plt.imshow(img)\n",
    "imgplot.set_cmap('gray') "
   ]
  },
  {
   "cell_type": "markdown",
   "metadata": {},
   "source": [
    "<hr>\n",
    "\n",
    "## Want to learn more?\n",
    "\n",
    "Running deep learning programs usually needs a high performance platform. **PowerAI** speeds up deep learning and AI. Built on IBM’s Power Systems, **PowerAI** is a scalable software platform that accelerates deep learning and AI with blazing performance for individual users or enterprises. The **PowerAI** platform supports popular machine learning libraries and dependencies including TensorFlow, Caffe, Torch, and Theano. You can use [PowerAI on IMB Cloud](https://cocl.us/ML0120EN_PAI).\n",
    "\n",
    "Also, you can use **Watson Studio** to run these notebooks faster with bigger datasets.**Watson Studio** is IBM’s leading cloud solution for data scientists, built by data scientists. With Jupyter notebooks, RStudio, Apache Spark and popular libraries pre-packaged in the cloud, **Watson Studio** enables data scientists to collaborate on their projects without having to install anything. Join the fast-growing community of **Watson Studio** users today with a free account at [Watson Studio](https://cocl.us/ML0120EN_DSX).This is the end of this lesson. Thank you for reading this notebook, and good luck on your studies.\n"
   ]
  },
  {
   "cell_type": "markdown",
   "metadata": {},
   "source": [
    "### Thanks for completing this lesson!\n",
    "\n",
    "Notebook created by: <a href = \"https://ca.linkedin.com/in/saeedaghabozorgi\">Saeed Aghabozorgi</a>\n",
    "\n",
    "Updated to TF 2.X by  <a href=\"https://ca.linkedin.com/in/nilmeier\"> Jerome Nilmeier</a><br />\n"
   ]
  },
  {
   "cell_type": "markdown",
   "metadata": {},
   "source": [
    "### References:\n",
    "\n",
    "[https://en.wikipedia.org/wiki/Restricted_Boltzmann_machine](https://en.wikipedia.org/wiki/Restricted_Boltzmann_machine?cm_mmc=Email_Newsletter-_-Developer_Ed%2BTech-_-WW_WW-_-SkillsNetwork-Courses-IBMDeveloperSkillsNetwork-DL0120EN-SkillsNetwork-20629446&cm_mmca1=000026UJ&cm_mmca2=10006555&cm_mmca3=M12345678&cvosrc=email.Newsletter.M12345678&cvo_campaign=000026UJ)  \n",
    "[http://deeplearning.net/tutorial/rbm.html](http://deeplearning.net/tutorial/rbm.html?cm_mmc=Email_Newsletter-_-Developer_Ed%2BTech-_-WW_WW-_-SkillsNetwork-Courses-IBMDeveloperSkillsNetwork-DL0120EN-SkillsNetwork-20629446&cm_mmca1=000026UJ&cm_mmca2=10006555&cm_mmca3=M12345678&cvosrc=email.Newsletter.M12345678&cvo_campaign=000026UJ&cm_mmc=Email_Newsletter-_-Developer_Ed%2BTech-_-WW_WW-_-SkillsNetwork-Courses-IBMDeveloperSkillsNetwork-DL0120EN-SkillsNetwork-20629446&cm_mmca1=000026UJ&cm_mmca2=10006555&cm_mmca3=M12345678&cvosrc=email.Newsletter.M12345678&cvo_campaign=000026UJ)  \n",
    "[http://www.cs.utoronto.ca/~hinton/absps/netflixICML.pdf](http://www.cs.utoronto.ca/~hinton/absps/netflixICML.pdf?cm_mmc=Email_Newsletter-_-Developer_Ed%2BTech-_-WW_WW-_-SkillsNetwork-Courses-IBMDeveloperSkillsNetwork-DL0120EN-SkillsNetwork-20629446&cm_mmca1=000026UJ&cm_mmca2=10006555&cm_mmca3=M12345678&cvosrc=email.Newsletter.M12345678&cvo_campaign=000026UJ&cm_mmc=Email_Newsletter-_-Developer_Ed%2BTech-_-WW_WW-_-SkillsNetwork-Courses-IBMDeveloperSkillsNetwork-DL0120EN-SkillsNetwork-20629446&cm_mmca1=000026UJ&cm_mmca2=10006555&cm_mmca3=M12345678&cvosrc=email.Newsletter.M12345678&cvo_campaign=000026UJ)<br>\n",
    "<http://imonad.com/rbm/restricted-boltzmann-machine/>  \n"
   ]
  },
  {
   "cell_type": "markdown",
   "metadata": {},
   "source": [
    "<hr>\n",
    "\n",
    "Copyright © 2018 [Cognitive Class](https://cocl.us/DX0108EN_CC). This notebook and its source code are released under the terms of the [MIT License](https://bigdatauniversity.com/mit-license?cm_mmc=Email_Newsletter-_-Developer_Ed%2BTech-_-WW_WW-_-SkillsNetwork-Courses-IBMDeveloperSkillsNetwork-DL0120EN-SkillsNetwork-20629446&cm_mmca1=000026UJ&cm_mmca2=10006555&cm_mmca3=M12345678&cvosrc=email.Newsletter.M12345678&cvo_campaign=000026UJ&cm_mmc=Email_Newsletter-_-Developer_Ed%2BTech-_-WW_WW-_-SkillsNetwork-Courses-IBMDeveloperSkillsNetwork-DL0120EN-SkillsNetwork-20629446&cm_mmca1=000026UJ&cm_mmca2=10006555&cm_mmca3=M12345678&cvosrc=email.Newsletter.M12345678&cvo_campaign=000026UJ).\n"
   ]
  }
 ],
 "metadata": {
  "kernelspec": {
   "display_name": "Python",
   "language": "python",
   "name": "conda-env-python-py"
  },
  "language_info": {
   "codemirror_mode": {
    "name": "ipython",
    "version": 3
   },
   "file_extension": ".py",
   "mimetype": "text/x-python",
   "name": "python",
   "nbconvert_exporter": "python",
   "pygments_lexer": "ipython3",
   "version": "3.6.13"
  },
  "widgets": {
   "state": {},
   "version": "1.1.2"
  }
 },
 "nbformat": 4,
 "nbformat_minor": 4
}
